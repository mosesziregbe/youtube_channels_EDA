{
 "cells": [
  {
   "cell_type": "markdown",
   "id": "7b3e38da-41c1-4a19-920a-5d11ce9d40d7",
   "metadata": {},
   "source": [
    "# Youtube Trending Videos Analysis  \n",
    "## Dataset from [Kaggle](https://www.kaggle.com/datasets/datasnaek/youtube-new?resource=download)"
   ]
  },
  {
   "cell_type": "markdown",
   "id": "e62cdd58-6a6b-47fe-9456-0b2334718a76",
   "metadata": {},
   "source": [
    "### Context\n",
    "\n",
    "YouTube (the world-famous video sharing website) maintains a list of the top trending videos on the platform. According to Variety magazine, “To determine the year’s top-trending videos, YouTube uses a combination of factors including measuring users interactions (number of views, shares, comments and likes). Note that they’re not the most-viewed videos overall for the calendar year”. Top performers on the YouTube trending list are music videos (such as the famously virile “Gangam Style”), celebrity and/or reality TV performances, and the random dude-with-a-camera viral videos that YouTube is well-known for.\n",
    "\n",
    "This dataset is a daily record of the top trending YouTube videos.\n",
    "\n",
    "Note that this dataset is a structurally improved version of [this dataset](https://www.kaggle.com/datasnaek/youtube).\n",
    "### Content\n",
    "\n",
    "This dataset includes several months (and counting) of data on daily trending YouTube videos. Data is included for the US, GB, DE, CA, and FR regions (USA, Great Britain, Germany, Canada, and France, respectively), with up to 200 listed trending videos per day."
   ]
  },
  {
   "cell_type": "markdown",
   "id": "7f8f0cf2-72a3-452c-b3da-19343ddb5655",
   "metadata": {},
   "source": [
    "## Importation of Libraries and Dataset"
   ]
  },
  {
   "cell_type": "code",
   "execution_count": 1,
   "id": "19337fbc-75e3-48cb-acc1-35b8ba679700",
   "metadata": {
    "tags": []
   },
   "outputs": [],
   "source": [
    "import pandas as pd\n",
    "import numpy as np\n",
    "import matplotlib.pyplot as plt"
   ]
  },
  {
   "cell_type": "code",
   "execution_count": 2,
   "id": "8e64c222-539d-42e6-abb5-7407a0987014",
   "metadata": {
    "tags": []
   },
   "outputs": [],
   "source": [
    "# import the dataset\n",
    "\n",
    "df = pd.read_csv(\"USvideos.csv\")"
   ]
  },
  {
   "cell_type": "markdown",
   "id": "5ba46b77-5838-4bee-b3a7-caa90fd0eece",
   "metadata": {},
   "source": [
    "## First Inspection of Dataset"
   ]
  },
  {
   "cell_type": "markdown",
   "id": "2bfbc311-f124-4a04-bc25-fd71b33f3aef",
   "metadata": {},
   "source": [
    "### Dataset Shape"
   ]
  },
  {
   "cell_type": "code",
   "execution_count": 3,
   "id": "b4e726d6-f96f-4227-bfd7-f236aa5b1402",
   "metadata": {
    "tags": []
   },
   "outputs": [
    {
     "data": {
      "text/plain": [
       "(40949, 16)"
      ]
     },
     "execution_count": 3,
     "metadata": {},
     "output_type": "execute_result"
    }
   ],
   "source": [
    "# size of dataset\n",
    "\n",
    "df.shape"
   ]
  },
  {
   "cell_type": "markdown",
   "id": "3b33af22-5f0d-4be4-9e2d-78f9adc50dea",
   "metadata": {},
   "source": [
    "### Check dtypes"
   ]
  },
  {
   "cell_type": "code",
   "execution_count": 4,
   "id": "6075bb3c-ae5e-459c-9264-dbb78a51c9bc",
   "metadata": {
    "tags": []
   },
   "outputs": [
    {
     "name": "stdout",
     "output_type": "stream",
     "text": [
      "<class 'pandas.core.frame.DataFrame'>\n",
      "RangeIndex: 40949 entries, 0 to 40948\n",
      "Data columns (total 16 columns):\n",
      " #   Column                  Non-Null Count  Dtype \n",
      "---  ------                  --------------  ----- \n",
      " 0   video_id                40949 non-null  object\n",
      " 1   trending_date           40949 non-null  object\n",
      " 2   title                   40949 non-null  object\n",
      " 3   channel_title           40949 non-null  object\n",
      " 4   category_id             40949 non-null  int64 \n",
      " 5   publish_time            40949 non-null  object\n",
      " 6   tags                    40949 non-null  object\n",
      " 7   views                   40949 non-null  int64 \n",
      " 8   likes                   40949 non-null  int64 \n",
      " 9   dislikes                40949 non-null  int64 \n",
      " 10  comment_count           40949 non-null  int64 \n",
      " 11  thumbnail_link          40949 non-null  object\n",
      " 12  comments_disabled       40949 non-null  bool  \n",
      " 13  ratings_disabled        40949 non-null  bool  \n",
      " 14  video_error_or_removed  40949 non-null  bool  \n",
      " 15  description             40379 non-null  object\n",
      "dtypes: bool(3), int64(5), object(8)\n",
      "memory usage: 4.2+ MB\n"
     ]
    }
   ],
   "source": [
    "# check datatypes of each column\n",
    "\n",
    "df.info()"
   ]
  },
  {
   "cell_type": "code",
   "execution_count": 5,
   "id": "6f7926a4-caeb-46ce-b478-59a4a788fd41",
   "metadata": {
    "tags": []
   },
   "outputs": [
    {
     "data": {
      "text/plain": [
       "Index(['video_id', 'trending_date', 'title', 'channel_title', 'category_id',\n",
       "       'publish_time', 'tags', 'views', 'likes', 'dislikes', 'comment_count',\n",
       "       'thumbnail_link', 'comments_disabled', 'ratings_disabled',\n",
       "       'video_error_or_removed', 'description'],\n",
       "      dtype='object')"
      ]
     },
     "execution_count": 5,
     "metadata": {},
     "output_type": "execute_result"
    }
   ],
   "source": [
    "# columns\n",
    "\n",
    "df.columns"
   ]
  },
  {
   "cell_type": "markdown",
   "id": "3cd63016-6c4d-4f7c-8e7f-107ff897eb8b",
   "metadata": {},
   "source": [
    "### Check missing values"
   ]
  },
  {
   "cell_type": "code",
   "execution_count": 6,
   "id": "50a24a38-0639-404c-b8b2-8a86cbbf5b43",
   "metadata": {
    "tags": []
   },
   "outputs": [
    {
     "data": {
      "text/plain": [
       "video_id                    0\n",
       "trending_date               0\n",
       "title                       0\n",
       "channel_title               0\n",
       "category_id                 0\n",
       "publish_time                0\n",
       "tags                        0\n",
       "views                       0\n",
       "likes                       0\n",
       "dislikes                    0\n",
       "comment_count               0\n",
       "thumbnail_link              0\n",
       "comments_disabled           0\n",
       "ratings_disabled            0\n",
       "video_error_or_removed      0\n",
       "description               570\n",
       "dtype: int64"
      ]
     },
     "execution_count": 6,
     "metadata": {},
     "output_type": "execute_result"
    }
   ],
   "source": [
    "# missing values count\n",
    "\n",
    "df.isna().sum()"
   ]
  },
  {
   "cell_type": "markdown",
   "id": "c16c77fd-4331-47c3-aea9-ea30414a14ed",
   "metadata": {},
   "source": [
    "## Data Cleaning"
   ]
  },
  {
   "cell_type": "markdown",
   "id": "4cd32b07-f9a6-4748-a2bb-601766d231bf",
   "metadata": {
    "tags": []
   },
   "source": [
    "### Removal of unseful variables\n",
    "I don't think I will use the thumbnail_link column"
   ]
  },
  {
   "cell_type": "code",
   "execution_count": 7,
   "id": "7397b560-374d-4be9-a71b-c64325076363",
   "metadata": {
    "tags": []
   },
   "outputs": [],
   "source": [
    "# drop unuseful columns from the dataframe\n",
    "\n",
    "df.drop(columns=[\"thumbnail_link\"], inplace=True)"
   ]
  },
  {
   "cell_type": "markdown",
   "id": "b87f3eda-365c-4d38-94b3-935399687de8",
   "metadata": {
    "tags": []
   },
   "source": [
    "### Convert Date Variables to Datetime dtype"
   ]
  },
  {
   "cell_type": "code",
   "execution_count": 8,
   "id": "536ef6c9-1067-42d9-bfde-b6e768f64345",
   "metadata": {
    "tags": []
   },
   "outputs": [
    {
     "data": {
      "text/plain": [
       "array(['18.07.04', '18.27.02', '18.13.05', '18.29.03', '17.18.12',\n",
       "       '18.17.05', '18.07.01', '17.13.12', '18.13.02', '17.27.12'],\n",
       "      dtype=object)"
      ]
     },
     "execution_count": 8,
     "metadata": {},
     "output_type": "execute_result"
    }
   ],
   "source": [
    "df[\"trending_date\"].sample(10).values"
   ]
  },
  {
   "cell_type": "code",
   "execution_count": 9,
   "id": "98333297-8e6b-4fb7-a94c-45dc1c7b7461",
   "metadata": {
    "tags": []
   },
   "outputs": [
    {
     "data": {
      "text/plain": [
       "array(['2018-01-12T20:16:33.000Z', '2018-05-25T16:50:01.000Z',\n",
       "       '2018-05-29T17:00:00.000Z', '2018-05-04T21:00:00.000Z',\n",
       "       '2018-01-05T05:39:51.000Z', '2018-04-06T17:00:05.000Z',\n",
       "       '2018-05-29T21:00:01.000Z', '2018-04-30T16:00:23.000Z',\n",
       "       '2018-05-21T14:12:22.000Z', '2017-12-20T17:01:03.000Z'],\n",
       "      dtype=object)"
      ]
     },
     "execution_count": 9,
     "metadata": {},
     "output_type": "execute_result"
    }
   ],
   "source": [
    "df[\"publish_time\"].sample(10).values"
   ]
  },
  {
   "cell_type": "markdown",
   "id": "421c06a3-4043-4fbc-83ac-410c19d3d2be",
   "metadata": {},
   "source": [
    "The trending_date are in the YY.DD.MM format."
   ]
  },
  {
   "cell_type": "code",
   "execution_count": 10,
   "id": "5cf09120-32d8-4aa9-8249-fa027c6ce97a",
   "metadata": {
    "tags": []
   },
   "outputs": [],
   "source": [
    "# convert trending date and publish_time column to datetime datatype\n",
    "\n",
    "df[\"trending_date\"] = pd.to_datetime(df[\"trending_date\"], format='%y.%d.%m')\n",
    "df[\"publish_time\"] = pd.to_datetime(df[\"publish_time\"])"
   ]
  },
  {
   "cell_type": "code",
   "execution_count": 11,
   "id": "960ab5b9-ec3d-4d72-9186-656a63c71c73",
   "metadata": {
    "tags": []
   },
   "outputs": [
    {
     "data": {
      "text/plain": [
       "video_id                               object\n",
       "trending_date                  datetime64[ns]\n",
       "title                                  object\n",
       "channel_title                          object\n",
       "category_id                             int64\n",
       "publish_time              datetime64[ns, UTC]\n",
       "tags                                   object\n",
       "views                                   int64\n",
       "likes                                   int64\n",
       "dislikes                                int64\n",
       "comment_count                           int64\n",
       "comments_disabled                        bool\n",
       "ratings_disabled                         bool\n",
       "video_error_or_removed                   bool\n",
       "description                            object\n",
       "dtype: object"
      ]
     },
     "execution_count": 11,
     "metadata": {},
     "output_type": "execute_result"
    }
   ],
   "source": [
    "# check the dtypes again after conversion\n",
    "\n",
    "df.dtypes"
   ]
  },
  {
   "cell_type": "markdown",
   "id": "b9b67c13-9b84-4a56-bd56-ac5f8eebe3bb",
   "metadata": {
    "tags": []
   },
   "source": [
    "### Clean the text variables"
   ]
  },
  {
   "cell_type": "code",
   "execution_count": 12,
   "id": "3e1f7069-40c2-44f3-821f-abe478d9e084",
   "metadata": {
    "tags": []
   },
   "outputs": [
    {
     "data": {
      "text/plain": [
       "Index(['video_id', 'title', 'channel_title', 'tags', 'description'], dtype='object')"
      ]
     },
     "execution_count": 12,
     "metadata": {},
     "output_type": "execute_result"
    }
   ],
   "source": [
    "df.select_dtypes('object').columns"
   ]
  },
  {
   "cell_type": "markdown",
   "id": "c06c67f3-093c-4853-b754-d6e3a34dc966",
   "metadata": {
    "tags": []
   },
   "source": [
    "#### Titles\n",
    "Change title to a proper case"
   ]
  },
  {
   "cell_type": "code",
   "execution_count": 13,
   "id": "e201f4f6-5197-4f68-a81c-1160c494a3a1",
   "metadata": {
    "tags": []
   },
   "outputs": [
    {
     "data": {
      "text/plain": [
       "array(['Potatoes - You Suck at Cooking (episode 74)',\n",
       "       'Buying Used Things 2',\n",
       "       'The Last Jedi Cast Touches Bearded Dragons & Other Weird Stuff | Fear Box | Vanity Fair',\n",
       "       '10 Ridiculous Cooking Products!', 'Polar bear cub audio',\n",
       "       \"BEYONCE'S MAKEUP ARTIST DOES MY MAKEUP! | ft. Sir John\",\n",
       "       'Antonio Banderas Can Play Picasso, But Can He Draw Like Him?',\n",
       "       'Just Like You Left It',\n",
       "       'Made in Miami (Artist Spotlight Story) - Camila Cabello',\n",
       "       'Demi Lovato, Unfiltered: A Pop Star Removes Her Makeup | Vogue'],\n",
       "      dtype=object)"
      ]
     },
     "execution_count": 13,
     "metadata": {},
     "output_type": "execute_result"
    }
   ],
   "source": [
    "df[\"title\"].sample(10).values"
   ]
  },
  {
   "cell_type": "code",
   "execution_count": 14,
   "id": "88342b75-d6ad-450b-9b23-c1499ade9384",
   "metadata": {
    "tags": []
   },
   "outputs": [
    {
     "data": {
      "text/plain": [
       "0                       We want to talk about our marriage\n",
       "1        The trump presidency: last week tonight with j...\n",
       "2        Racist superman | rudy mancuso, king bach & le...\n",
       "3                         Nickelback lyrics: real or fake?\n",
       "4                                 I dare you: going bald!?\n",
       "                               ...                        \n",
       "40944                         The cat who caught the laser\n",
       "40945                           True facts : ant mutualism\n",
       "40946    I gave safiya nygaard a perfect hair makeover ...\n",
       "40947                  How black panther should have ended\n",
       "40948    Official call of duty®: black ops 4 — multipla...\n",
       "Name: title, Length: 40949, dtype: object"
      ]
     },
     "execution_count": 14,
     "metadata": {},
     "output_type": "execute_result"
    }
   ],
   "source": [
    "df[\"title\"].str.strip().str.capitalize()"
   ]
  },
  {
   "cell_type": "markdown",
   "id": "290dda45-0384-4825-bbee-134cc156e9e7",
   "metadata": {},
   "source": [
    "#### Category"
   ]
  },
  {
   "cell_type": "code",
   "execution_count": 15,
   "id": "338e9c94-465c-4815-b6b6-5a00c7f8aebe",
   "metadata": {
    "tags": []
   },
   "outputs": [
    {
     "data": {
      "text/plain": [
       "array([22, 24, 23, 28,  1, 25, 17, 10, 15, 27, 26,  2, 19, 20, 29, 43],\n",
       "      dtype=int64)"
      ]
     },
     "execution_count": 15,
     "metadata": {},
     "output_type": "execute_result"
    }
   ],
   "source": [
    "df[\"category_id\"].unique()"
   ]
  },
  {
   "cell_type": "markdown",
   "id": "f62d8eaf-680e-4e8a-947b-606f9c39bb9c",
   "metadata": {},
   "source": [
    "Translate category id into a string, using this github resource:  [dgp/youtube api video category id list](https://gist.github.com/dgp/1b24bf2961521bd75d6c)"
   ]
  },
  {
   "cell_type": "code",
   "execution_count": 16,
   "id": "55f88c23-bd39-4696-b0e1-1151840799a9",
   "metadata": {
    "tags": []
   },
   "outputs": [],
   "source": [
    "categories = \"\"\"\n",
    "2 - Autos & Vehicles\n",
    "1 - Film & Animation\n",
    "10 - Music\n",
    "15 - Pets & Animals\n",
    "17 - Sports\n",
    "18 - Short Movies\n",
    "19 - Travel & Events\n",
    "20 - Gaming\n",
    "21 - Videoblogging\n",
    "22 - People & Blogs\n",
    "23 - Comedy\n",
    "24 - Entertainment\n",
    "25 - News & Politics\n",
    "26 - Howto & Style\n",
    "27 - Education\n",
    "28 - Science & Technology\n",
    "29 - Nonprofits & Activism\n",
    "30 - Movies\n",
    "31 - Anime/Animation\n",
    "32 - Action/Adventure\n",
    "33 - Classics\n",
    "34 - Comedy\n",
    "35 - Documentary\n",
    "36 - Drama\n",
    "37 - Family\n",
    "38 - Foreign\n",
    "39 - Horror\n",
    "40 - Sci-Fi/Fantasy\n",
    "41 - Thriller\n",
    "42 - Shorts\n",
    "43 - Shows\n",
    "44 - Trailers\"\"\""
   ]
  },
  {
   "cell_type": "code",
   "execution_count": 17,
   "id": "d0aa5bfb-14bb-46a0-8fd7-2ca5c623c36c",
   "metadata": {
    "tags": []
   },
   "outputs": [
    {
     "data": {
      "text/plain": [
       "{2: 'Autos & Vehicles',\n",
       " 1: 'Film & Animation',\n",
       " 10: 'Music',\n",
       " 15: 'Pets & Animals',\n",
       " 17: 'Sports'}"
      ]
     },
     "execution_count": 17,
     "metadata": {},
     "output_type": "execute_result"
    }
   ],
   "source": [
    "category_mapping = {}\n",
    "for line in categories.strip().split(\"\\n\"):\n",
    "    category_id, category_name = line.split(\" - \")\n",
    "    category_mapping[int(category_id)] = category_name\n",
    "\n",
    "dict(list(category_mapping.items())[:5])"
   ]
  },
  {
   "cell_type": "code",
   "execution_count": 18,
   "id": "d06b7eb9-6ceb-4937-9778-5d7f2ad459ae",
   "metadata": {
    "tags": []
   },
   "outputs": [
    {
     "data": {
      "text/plain": [
       "0          People & Blogs\n",
       "1           Entertainment\n",
       "2                  Comedy\n",
       "3           Entertainment\n",
       "4           Entertainment\n",
       "               ...       \n",
       "40944      Pets & Animals\n",
       "40945      People & Blogs\n",
       "40946       Entertainment\n",
       "40947    Film & Animation\n",
       "40948              Gaming\n",
       "Name: category_id, Length: 40949, dtype: object"
      ]
     },
     "execution_count": 18,
     "metadata": {},
     "output_type": "execute_result"
    }
   ],
   "source": [
    "df[\"category_id\"].map(category_mapping)"
   ]
  },
  {
   "cell_type": "code",
   "execution_count": 19,
   "id": "64fc76fb-7a32-4985-a7ed-93020bd399b4",
   "metadata": {
    "tags": []
   },
   "outputs": [],
   "source": [
    "df[\"category\"] = df[\"category_id\"].map(category_mapping)"
   ]
  },
  {
   "cell_type": "code",
   "execution_count": 20,
   "id": "85f3f6ac-de98-4c17-a9aa-aef9266740a4",
   "metadata": {
    "tags": []
   },
   "outputs": [
    {
     "data": {
      "text/html": [
       "<div>\n",
       "<style scoped>\n",
       "    .dataframe tbody tr th:only-of-type {\n",
       "        vertical-align: middle;\n",
       "    }\n",
       "\n",
       "    .dataframe tbody tr th {\n",
       "        vertical-align: top;\n",
       "    }\n",
       "\n",
       "    .dataframe thead th {\n",
       "        text-align: right;\n",
       "    }\n",
       "</style>\n",
       "<table border=\"1\" class=\"dataframe\">\n",
       "  <thead>\n",
       "    <tr style=\"text-align: right;\">\n",
       "      <th></th>\n",
       "      <th>category_id</th>\n",
       "      <th>category</th>\n",
       "    </tr>\n",
       "  </thead>\n",
       "  <tbody>\n",
       "    <tr>\n",
       "      <th>29744</th>\n",
       "      <td>26</td>\n",
       "      <td>Howto &amp; Style</td>\n",
       "    </tr>\n",
       "    <tr>\n",
       "      <th>25890</th>\n",
       "      <td>15</td>\n",
       "      <td>Pets &amp; Animals</td>\n",
       "    </tr>\n",
       "    <tr>\n",
       "      <th>1025</th>\n",
       "      <td>10</td>\n",
       "      <td>Music</td>\n",
       "    </tr>\n",
       "    <tr>\n",
       "      <th>15302</th>\n",
       "      <td>10</td>\n",
       "      <td>Music</td>\n",
       "    </tr>\n",
       "    <tr>\n",
       "      <th>30665</th>\n",
       "      <td>22</td>\n",
       "      <td>People &amp; Blogs</td>\n",
       "    </tr>\n",
       "  </tbody>\n",
       "</table>\n",
       "</div>"
      ],
      "text/plain": [
       "       category_id        category\n",
       "29744           26   Howto & Style\n",
       "25890           15  Pets & Animals\n",
       "1025            10           Music\n",
       "15302           10           Music\n",
       "30665           22  People & Blogs"
      ]
     },
     "execution_count": 20,
     "metadata": {},
     "output_type": "execute_result"
    }
   ],
   "source": [
    "# take a sample to check the category_id matches with the category\n",
    "\n",
    "df[[\"category_id\", \"category\"]].sample(5)"
   ]
  },
  {
   "cell_type": "code",
   "execution_count": null,
   "id": "e231f435-b3a5-4f36-a39b-22d535398559",
   "metadata": {},
   "outputs": [],
   "source": []
  },
  {
   "cell_type": "markdown",
   "id": "f6c00aa0-e55c-4d82-af0d-b9f3582f585c",
   "metadata": {},
   "source": [
    "#### Channel title"
   ]
  },
  {
   "cell_type": "code",
   "execution_count": 21,
   "id": "3fad5e87-8342-455c-95c1-811481db15fe",
   "metadata": {
    "tags": []
   },
   "outputs": [
    {
     "data": {
      "text/plain": [
       "array(['ESPN', 'ToniBraxtonVEVO', \"What's Inside?\", 'heyitsfeiii',\n",
       "       'Jack and Dean', 'TED-Ed', 'Disney Parks', 'Tina Yong',\n",
       "       'Hope For Paws - Official Rescue Channel', 'Bon Appétit'],\n",
       "      dtype=object)"
      ]
     },
     "execution_count": 21,
     "metadata": {},
     "output_type": "execute_result"
    }
   ],
   "source": [
    "df[\"channel_title\"].sample(10).values"
   ]
  },
  {
   "cell_type": "code",
   "execution_count": 22,
   "id": "90e5d7d2-5dbc-4f5f-9581-1ea6810f4329",
   "metadata": {
    "tags": []
   },
   "outputs": [
    {
     "data": {
      "text/plain": [
       "0                    Caseyneistat\n",
       "1                 Lastweektonight\n",
       "2                    Rudy mancuso\n",
       "3           Good mythical morning\n",
       "4                        Nigahiga\n",
       "                   ...           \n",
       "40944               Aaronsanimals\n",
       "40945                    Zefrank1\n",
       "40946                  Brad mondo\n",
       "40947    How it should have ended\n",
       "40948                Call of duty\n",
       "Name: channel_title, Length: 40949, dtype: object"
      ]
     },
     "execution_count": 22,
     "metadata": {},
     "output_type": "execute_result"
    }
   ],
   "source": [
    "df[\"channel_title\"].str.strip().str.capitalize()"
   ]
  },
  {
   "cell_type": "markdown",
   "id": "90633b63-9aca-4c34-b7a0-614b14ee0756",
   "metadata": {},
   "source": [
    "#### Tags"
   ]
  },
  {
   "cell_type": "code",
   "execution_count": 23,
   "id": "5a4b7f49-14d0-44e3-8c8e-7c6677a17b5d",
   "metadata": {
    "tags": []
   },
   "outputs": [
    {
     "data": {
      "text/plain": [
       "16675                                               [none]\n",
       "11594    bee movie|\"jerry seinfeld\"|\"cinema sins\"|\"cine...\n",
       "16407    HBO|\"Westworld\"|\"Evan Rachel Wood\"|\"JJ Abrams\"...\n",
       "13564                           Inside the NBA|\"Top Video\"\n",
       "306      iphone x|\"iphonex makeup\"|\"iphonex test\"|\"new ...\n",
       "39054    Ariana|\"Grande\"|\"No\"|\"Tears\"|\"Left\"|\"To\"|\"Cry\"...\n",
       "28594    “Overwatch Seasonal Event| Overwatch Archives|...\n",
       "25796    laptop|\"best tablet\"|\"apple ipad pro\"|\"microso...\n",
       "13199    nbc news|\"nbc\"|\"news\"|\"news channel\"|\"news sta...\n",
       "12304    Late Night|\"Seth Meyers\"|\"James Franco\"|\"Addre...\n",
       "Name: tags, dtype: object"
      ]
     },
     "execution_count": 23,
     "metadata": {},
     "output_type": "execute_result"
    }
   ],
   "source": [
    "df[\"tags\"].sample(10)"
   ]
  },
  {
   "cell_type": "markdown",
   "id": "8e2f9640-d128-4eb1-991f-dd1f86b04f70",
   "metadata": {},
   "source": [
    "From a previous run of the **df[\"tags\"].sample()**,\n",
    "I found out that some videos have tags as: **[none]**, I will substitute this with an empty string"
   ]
  },
  {
   "cell_type": "code",
   "execution_count": 24,
   "id": "02695526-80aa-44bc-b9b3-a983fda262cd",
   "metadata": {
    "tags": []
   },
   "outputs": [],
   "source": [
    "df.loc[df[\"tags\"] == \"[none]\", \"tags\"] = None"
   ]
  },
  {
   "cell_type": "code",
   "execution_count": 25,
   "id": "6ab54979-a5d6-4d0c-a834-a8e8611c5ddd",
   "metadata": {
    "tags": []
   },
   "outputs": [],
   "source": [
    "df.tags = df.tags.apply(lambda x : x.replace('\"', '').split('|') if x is not None else x )"
   ]
  },
  {
   "cell_type": "markdown",
   "id": "5ed8a451-e4cf-4ba4-86ed-194d654a6db6",
   "metadata": {
    "tags": []
   },
   "source": [
    "Next, I will trim the whitespaces for each of the tags."
   ]
  },
  {
   "cell_type": "code",
   "execution_count": 26,
   "id": "09085a78-6028-4265-9c89-aeb07d540a6e",
   "metadata": {
    "tags": []
   },
   "outputs": [],
   "source": [
    "df.tags = df.tags.apply(lambda x : [i.strip().lower() for i in x] if x is not None else x)"
   ]
  },
  {
   "cell_type": "code",
   "execution_count": 27,
   "id": "db6c9dda-2285-4708-8cbf-a54ce95a8e77",
   "metadata": {
    "tags": []
   },
   "outputs": [
    {
     "data": {
      "text/plain": [
       "27606    [kylie minogue, kylie, new music, pop, girls a...\n",
       "1358     [access hollywood, blake shelton and gwen stef...\n",
       "37207    [welcome to the party, diplo, lil pump, french...\n",
       "24445    [brutalmoose, hidden block, brutalfoods, food,...\n",
       "30391    [avicii, avicii dies, avicii dead, avicii pass...\n",
       "24974    [worlds biggest lighter, worlds best lighter, ...\n",
       "16728    [nbc the voice, the voice 2018, watch the voic...\n",
       "18607    [sean, paul, david, guetta, mad, love, island,...\n",
       "35156               [bighit, 빅히트, 방탄소년단, bts, bangtan, 방탄]\n",
       "36065    [the green makeup challenge, green makeup chal...\n",
       "Name: tags, dtype: object"
      ]
     },
     "execution_count": 27,
     "metadata": {},
     "output_type": "execute_result"
    }
   ],
   "source": [
    "df[\"tags\"].sample(10)"
   ]
  },
  {
   "cell_type": "markdown",
   "id": "7857302f-ee64-4210-9902-8b2f9d21eeb6",
   "metadata": {},
   "source": [
    "## Export the clean dataset"
   ]
  },
  {
   "cell_type": "markdown",
   "id": "2a327fbf-e307-4345-9033-b673811fd6ad",
   "metadata": {},
   "source": [
    "### Rearrange the Columns"
   ]
  },
  {
   "cell_type": "code",
   "execution_count": 28,
   "id": "18acf4b1-49a4-4b4e-a92a-23601d9084ac",
   "metadata": {
    "tags": []
   },
   "outputs": [],
   "source": [
    "# Rearrange columns \n",
    "\n",
    "df = df[['video_id', 'title', 'description', \n",
    "         'channel_title', 'category_id', 'category',\n",
    "         'trending_date', 'publish_time', \n",
    "         'views', 'likes', 'dislikes', 'comment_count', \n",
    "         'tags', 'comments_disabled', 'ratings_disabled',\n",
    "       'video_error_or_removed']]"
   ]
  },
  {
   "cell_type": "markdown",
   "id": "73e7b447-4b24-439e-86ea-68931cd7f896",
   "metadata": {},
   "source": [
    "### Take a Sample of Clean dataset"
   ]
  },
  {
   "cell_type": "code",
   "execution_count": 29,
   "id": "df87d193-c254-421b-8810-1df462e928c6",
   "metadata": {
    "tags": []
   },
   "outputs": [
    {
     "data": {
      "text/html": [
       "<div>\n",
       "<style scoped>\n",
       "    .dataframe tbody tr th:only-of-type {\n",
       "        vertical-align: middle;\n",
       "    }\n",
       "\n",
       "    .dataframe tbody tr th {\n",
       "        vertical-align: top;\n",
       "    }\n",
       "\n",
       "    .dataframe thead th {\n",
       "        text-align: right;\n",
       "    }\n",
       "</style>\n",
       "<table border=\"1\" class=\"dataframe\">\n",
       "  <thead>\n",
       "    <tr style=\"text-align: right;\">\n",
       "      <th></th>\n",
       "      <th>video_id</th>\n",
       "      <th>title</th>\n",
       "      <th>description</th>\n",
       "      <th>channel_title</th>\n",
       "      <th>category_id</th>\n",
       "      <th>category</th>\n",
       "      <th>trending_date</th>\n",
       "      <th>publish_time</th>\n",
       "      <th>views</th>\n",
       "      <th>likes</th>\n",
       "      <th>dislikes</th>\n",
       "      <th>comment_count</th>\n",
       "      <th>tags</th>\n",
       "      <th>comments_disabled</th>\n",
       "      <th>ratings_disabled</th>\n",
       "      <th>video_error_or_removed</th>\n",
       "    </tr>\n",
       "  </thead>\n",
       "  <tbody>\n",
       "    <tr>\n",
       "      <th>31423</th>\n",
       "      <td>MWbQdgjsvJI</td>\n",
       "      <td>MAKING A DRESS OUT OF TRASH BAGS!</td>\n",
       "      <td>LOL HI ANGELS! You always say I could make wea...</td>\n",
       "      <td>Amber Scholl</td>\n",
       "      <td>26</td>\n",
       "      <td>Howto &amp; Style</td>\n",
       "      <td>2018-04-28</td>\n",
       "      <td>2018-04-22 15:21:24+00:00</td>\n",
       "      <td>1620561</td>\n",
       "      <td>104038</td>\n",
       "      <td>1902</td>\n",
       "      <td>7758</td>\n",
       "      <td>[diy, trash, how to, dress, tutorial, easy, am...</td>\n",
       "      <td>False</td>\n",
       "      <td>False</td>\n",
       "      <td>False</td>\n",
       "    </tr>\n",
       "    <tr>\n",
       "      <th>12041</th>\n",
       "      <td>WI06POju7UQ</td>\n",
       "      <td>Jimmy Kimmel monologue - Jan 11, 2018 | Trump ...</td>\n",
       "      <td>Jimmy Kimmel on Trump and Immigrants</td>\n",
       "      <td>Donald J. Trump Topic</td>\n",
       "      <td>22</td>\n",
       "      <td>People &amp; Blogs</td>\n",
       "      <td>2018-01-15</td>\n",
       "      <td>2018-01-12 05:08:28+00:00</td>\n",
       "      <td>439893</td>\n",
       "      <td>2865</td>\n",
       "      <td>2951</td>\n",
       "      <td>2367</td>\n",
       "      <td>None</td>\n",
       "      <td>False</td>\n",
       "      <td>False</td>\n",
       "      <td>False</td>\n",
       "    </tr>\n",
       "    <tr>\n",
       "      <th>27062</th>\n",
       "      <td>wD5YzBDSXv8</td>\n",
       "      <td>Bearded Men Try Going Clean-Shaven</td>\n",
       "      <td>Who are you?!\\n\\nCheck out more awesome videos...</td>\n",
       "      <td>BuzzFeedBlue</td>\n",
       "      <td>22</td>\n",
       "      <td>People &amp; Blogs</td>\n",
       "      <td>2018-03-31</td>\n",
       "      <td>2018-03-23 21:00:20+00:00</td>\n",
       "      <td>1032686</td>\n",
       "      <td>11956</td>\n",
       "      <td>1319</td>\n",
       "      <td>1852</td>\n",
       "      <td>[buzzfeed, buzzfeedblue, buzzfeed blue, blue, ...</td>\n",
       "      <td>False</td>\n",
       "      <td>False</td>\n",
       "      <td>False</td>\n",
       "    </tr>\n",
       "    <tr>\n",
       "      <th>27122</th>\n",
       "      <td>qYNNT1WIhwM</td>\n",
       "      <td>Twins Audition for American Idol With Bruno Ma...</td>\n",
       "      <td>Teenage twins Julian &amp; Milo Sposato audition t...</td>\n",
       "      <td>American Idol</td>\n",
       "      <td>24</td>\n",
       "      <td>Entertainment</td>\n",
       "      <td>2018-03-31</td>\n",
       "      <td>2018-03-19 01:37:40+00:00</td>\n",
       "      <td>1850545</td>\n",
       "      <td>29605</td>\n",
       "      <td>1602</td>\n",
       "      <td>1591</td>\n",
       "      <td>[abc, americanidol, idol, american idol, ryan,...</td>\n",
       "      <td>False</td>\n",
       "      <td>False</td>\n",
       "      <td>False</td>\n",
       "    </tr>\n",
       "    <tr>\n",
       "      <th>3337</th>\n",
       "      <td>t4ZsyO1n-kA</td>\n",
       "      <td>Making The Grand Tour: James's Candidate for t...</td>\n",
       "      <td>Jeremy Clarkson, Richard Hammond, and James Ma...</td>\n",
       "      <td>The Grand Tour</td>\n",
       "      <td>24</td>\n",
       "      <td>Entertainment</td>\n",
       "      <td>2017-11-30</td>\n",
       "      <td>2017-11-25 15:05:10+00:00</td>\n",
       "      <td>1039720</td>\n",
       "      <td>22394</td>\n",
       "      <td>282</td>\n",
       "      <td>1289</td>\n",
       "      <td>[the grand tour, jeremy clarkson, james may, r...</td>\n",
       "      <td>False</td>\n",
       "      <td>False</td>\n",
       "      <td>False</td>\n",
       "    </tr>\n",
       "  </tbody>\n",
       "</table>\n",
       "</div>"
      ],
      "text/plain": [
       "          video_id                                              title  \\\n",
       "31423  MWbQdgjsvJI                  MAKING A DRESS OUT OF TRASH BAGS!   \n",
       "12041  WI06POju7UQ  Jimmy Kimmel monologue - Jan 11, 2018 | Trump ...   \n",
       "27062  wD5YzBDSXv8                 Bearded Men Try Going Clean-Shaven   \n",
       "27122  qYNNT1WIhwM  Twins Audition for American Idol With Bruno Ma...   \n",
       "3337   t4ZsyO1n-kA  Making The Grand Tour: James's Candidate for t...   \n",
       "\n",
       "                                             description  \\\n",
       "31423  LOL HI ANGELS! You always say I could make wea...   \n",
       "12041               Jimmy Kimmel on Trump and Immigrants   \n",
       "27062  Who are you?!\\n\\nCheck out more awesome videos...   \n",
       "27122  Teenage twins Julian & Milo Sposato audition t...   \n",
       "3337   Jeremy Clarkson, Richard Hammond, and James Ma...   \n",
       "\n",
       "               channel_title  category_id        category trending_date  \\\n",
       "31423           Amber Scholl           26   Howto & Style    2018-04-28   \n",
       "12041  Donald J. Trump Topic           22  People & Blogs    2018-01-15   \n",
       "27062           BuzzFeedBlue           22  People & Blogs    2018-03-31   \n",
       "27122          American Idol           24   Entertainment    2018-03-31   \n",
       "3337          The Grand Tour           24   Entertainment    2017-11-30   \n",
       "\n",
       "                   publish_time    views   likes  dislikes  comment_count  \\\n",
       "31423 2018-04-22 15:21:24+00:00  1620561  104038      1902           7758   \n",
       "12041 2018-01-12 05:08:28+00:00   439893    2865      2951           2367   \n",
       "27062 2018-03-23 21:00:20+00:00  1032686   11956      1319           1852   \n",
       "27122 2018-03-19 01:37:40+00:00  1850545   29605      1602           1591   \n",
       "3337  2017-11-25 15:05:10+00:00  1039720   22394       282           1289   \n",
       "\n",
       "                                                    tags  comments_disabled  \\\n",
       "31423  [diy, trash, how to, dress, tutorial, easy, am...              False   \n",
       "12041                                               None              False   \n",
       "27062  [buzzfeed, buzzfeedblue, buzzfeed blue, blue, ...              False   \n",
       "27122  [abc, americanidol, idol, american idol, ryan,...              False   \n",
       "3337   [the grand tour, jeremy clarkson, james may, r...              False   \n",
       "\n",
       "       ratings_disabled  video_error_or_removed  \n",
       "31423             False                   False  \n",
       "12041             False                   False  \n",
       "27062             False                   False  \n",
       "27122             False                   False  \n",
       "3337              False                   False  "
      ]
     },
     "execution_count": 29,
     "metadata": {},
     "output_type": "execute_result"
    }
   ],
   "source": [
    "df.sample(5)"
   ]
  },
  {
   "cell_type": "markdown",
   "id": "5bd4efe6-73e5-4e2d-9e94-87a1c2ad9aa3",
   "metadata": {},
   "source": [
    "### Sort the dataset by publish_time"
   ]
  },
  {
   "cell_type": "code",
   "execution_count": 30,
   "id": "839593af-16ee-456a-b259-0dc204b15cf6",
   "metadata": {
    "tags": []
   },
   "outputs": [],
   "source": [
    "df = df.sort_values('publish_time').reset_index(drop=True)"
   ]
  },
  {
   "cell_type": "code",
   "execution_count": 31,
   "id": "5a5f24dd-0d3f-447d-b1bd-d0013daf67d1",
   "metadata": {
    "tags": []
   },
   "outputs": [
    {
     "data": {
      "text/html": [
       "<div>\n",
       "<style scoped>\n",
       "    .dataframe tbody tr th:only-of-type {\n",
       "        vertical-align: middle;\n",
       "    }\n",
       "\n",
       "    .dataframe tbody tr th {\n",
       "        vertical-align: top;\n",
       "    }\n",
       "\n",
       "    .dataframe thead th {\n",
       "        text-align: right;\n",
       "    }\n",
       "</style>\n",
       "<table border=\"1\" class=\"dataframe\">\n",
       "  <thead>\n",
       "    <tr style=\"text-align: right;\">\n",
       "      <th></th>\n",
       "      <th>video_id</th>\n",
       "      <th>title</th>\n",
       "      <th>description</th>\n",
       "      <th>channel_title</th>\n",
       "      <th>category_id</th>\n",
       "      <th>category</th>\n",
       "      <th>trending_date</th>\n",
       "      <th>publish_time</th>\n",
       "      <th>views</th>\n",
       "      <th>likes</th>\n",
       "      <th>dislikes</th>\n",
       "      <th>comment_count</th>\n",
       "      <th>tags</th>\n",
       "      <th>comments_disabled</th>\n",
       "      <th>ratings_disabled</th>\n",
       "      <th>video_error_or_removed</th>\n",
       "    </tr>\n",
       "  </thead>\n",
       "  <tbody>\n",
       "    <tr>\n",
       "      <th>0</th>\n",
       "      <td>MJO3FmmFuh4</td>\n",
       "      <td>Budweiser - Original Whazzup? ad</td>\n",
       "      <td>Original Whazzup ad - however, there is a litt...</td>\n",
       "      <td>dannotv</td>\n",
       "      <td>24</td>\n",
       "      <td>Entertainment</td>\n",
       "      <td>2018-02-05</td>\n",
       "      <td>2006-07-23 08:24:11+00:00</td>\n",
       "      <td>258506</td>\n",
       "      <td>459</td>\n",
       "      <td>152</td>\n",
       "      <td>82</td>\n",
       "      <td>[budweiser, bud, whazzup, ad]</td>\n",
       "      <td>False</td>\n",
       "      <td>False</td>\n",
       "      <td>False</td>\n",
       "    </tr>\n",
       "    <tr>\n",
       "      <th>1</th>\n",
       "      <td>UQtt9I6c-YM</td>\n",
       "      <td>Kramer vs Kramer-Clou Scene</td>\n",
       "      <td>Poor Meryl...she was really scaredxD</td>\n",
       "      <td>Livia Giustiniani</td>\n",
       "      <td>1</td>\n",
       "      <td>Film &amp; Animation</td>\n",
       "      <td>2018-01-07</td>\n",
       "      <td>2008-04-05 18:22:40+00:00</td>\n",
       "      <td>50030</td>\n",
       "      <td>46</td>\n",
       "      <td>6</td>\n",
       "      <td>26</td>\n",
       "      <td>[meryl, streep, kramer, vs, dustin, hoffman, c...</td>\n",
       "      <td>False</td>\n",
       "      <td>False</td>\n",
       "      <td>False</td>\n",
       "    </tr>\n",
       "    <tr>\n",
       "      <th>2</th>\n",
       "      <td>UQtt9I6c-YM</td>\n",
       "      <td>Kramer vs Kramer-Clou Scene</td>\n",
       "      <td>Poor Meryl...she was really scaredxD</td>\n",
       "      <td>Livia Giustiniani</td>\n",
       "      <td>1</td>\n",
       "      <td>Film &amp; Animation</td>\n",
       "      <td>2018-01-08</td>\n",
       "      <td>2008-04-05 18:22:40+00:00</td>\n",
       "      <td>50117</td>\n",
       "      <td>46</td>\n",
       "      <td>6</td>\n",
       "      <td>26</td>\n",
       "      <td>[meryl, streep, kramer, vs, dustin, hoffman, c...</td>\n",
       "      <td>False</td>\n",
       "      <td>False</td>\n",
       "      <td>False</td>\n",
       "    </tr>\n",
       "    <tr>\n",
       "      <th>3</th>\n",
       "      <td>UQtt9I6c-YM</td>\n",
       "      <td>Kramer vs Kramer-Clou Scene</td>\n",
       "      <td>Poor Meryl...she was really scaredxD</td>\n",
       "      <td>Livia Giustiniani</td>\n",
       "      <td>1</td>\n",
       "      <td>Film &amp; Animation</td>\n",
       "      <td>2018-01-06</td>\n",
       "      <td>2008-04-05 18:22:40+00:00</td>\n",
       "      <td>49942</td>\n",
       "      <td>46</td>\n",
       "      <td>6</td>\n",
       "      <td>26</td>\n",
       "      <td>[meryl, streep, kramer, vs, dustin, hoffman, c...</td>\n",
       "      <td>False</td>\n",
       "      <td>False</td>\n",
       "      <td>False</td>\n",
       "    </tr>\n",
       "    <tr>\n",
       "      <th>4</th>\n",
       "      <td>UQtt9I6c-YM</td>\n",
       "      <td>Kramer vs Kramer-Clou Scene</td>\n",
       "      <td>Poor Meryl...she was really scaredxD</td>\n",
       "      <td>Livia Giustiniani</td>\n",
       "      <td>1</td>\n",
       "      <td>Film &amp; Animation</td>\n",
       "      <td>2018-01-09</td>\n",
       "      <td>2008-04-05 18:22:40+00:00</td>\n",
       "      <td>50168</td>\n",
       "      <td>46</td>\n",
       "      <td>6</td>\n",
       "      <td>26</td>\n",
       "      <td>[meryl, streep, kramer, vs, dustin, hoffman, c...</td>\n",
       "      <td>False</td>\n",
       "      <td>False</td>\n",
       "      <td>False</td>\n",
       "    </tr>\n",
       "  </tbody>\n",
       "</table>\n",
       "</div>"
      ],
      "text/plain": [
       "      video_id                             title  \\\n",
       "0  MJO3FmmFuh4  Budweiser - Original Whazzup? ad   \n",
       "1  UQtt9I6c-YM       Kramer vs Kramer-Clou Scene   \n",
       "2  UQtt9I6c-YM       Kramer vs Kramer-Clou Scene   \n",
       "3  UQtt9I6c-YM       Kramer vs Kramer-Clou Scene   \n",
       "4  UQtt9I6c-YM       Kramer vs Kramer-Clou Scene   \n",
       "\n",
       "                                         description      channel_title  \\\n",
       "0  Original Whazzup ad - however, there is a litt...            dannotv   \n",
       "1               Poor Meryl...she was really scaredxD  Livia Giustiniani   \n",
       "2               Poor Meryl...she was really scaredxD  Livia Giustiniani   \n",
       "3               Poor Meryl...she was really scaredxD  Livia Giustiniani   \n",
       "4               Poor Meryl...she was really scaredxD  Livia Giustiniani   \n",
       "\n",
       "   category_id          category trending_date              publish_time  \\\n",
       "0           24     Entertainment    2018-02-05 2006-07-23 08:24:11+00:00   \n",
       "1            1  Film & Animation    2018-01-07 2008-04-05 18:22:40+00:00   \n",
       "2            1  Film & Animation    2018-01-08 2008-04-05 18:22:40+00:00   \n",
       "3            1  Film & Animation    2018-01-06 2008-04-05 18:22:40+00:00   \n",
       "4            1  Film & Animation    2018-01-09 2008-04-05 18:22:40+00:00   \n",
       "\n",
       "    views  likes  dislikes  comment_count  \\\n",
       "0  258506    459       152             82   \n",
       "1   50030     46         6             26   \n",
       "2   50117     46         6             26   \n",
       "3   49942     46         6             26   \n",
       "4   50168     46         6             26   \n",
       "\n",
       "                                                tags  comments_disabled  \\\n",
       "0                      [budweiser, bud, whazzup, ad]              False   \n",
       "1  [meryl, streep, kramer, vs, dustin, hoffman, c...              False   \n",
       "2  [meryl, streep, kramer, vs, dustin, hoffman, c...              False   \n",
       "3  [meryl, streep, kramer, vs, dustin, hoffman, c...              False   \n",
       "4  [meryl, streep, kramer, vs, dustin, hoffman, c...              False   \n",
       "\n",
       "   ratings_disabled  video_error_or_removed  \n",
       "0             False                   False  \n",
       "1             False                   False  \n",
       "2             False                   False  \n",
       "3             False                   False  \n",
       "4             False                   False  "
      ]
     },
     "execution_count": 31,
     "metadata": {},
     "output_type": "execute_result"
    }
   ],
   "source": [
    "df.head()"
   ]
  },
  {
   "cell_type": "code",
   "execution_count": null,
   "id": "18c6f488-1169-4f9e-b501-a4248af97f2d",
   "metadata": {},
   "outputs": [],
   "source": []
  },
  {
   "cell_type": "markdown",
   "id": "9d3abbd7-f368-4bd0-818e-de663167841b",
   "metadata": {},
   "source": [
    "### Export to csv"
   ]
  },
  {
   "cell_type": "code",
   "execution_count": 32,
   "id": "b7e51b6a-8081-4a2d-b487-e8587f006dea",
   "metadata": {
    "tags": []
   },
   "outputs": [],
   "source": [
    "# export the cleaned dataset to csv\n",
    "\n",
    "df.to_csv(\"clean_youtube_USvideos.csv\", index=False)"
   ]
  },
  {
   "cell_type": "code",
   "execution_count": null,
   "id": "77a0623b-886b-424d-bab0-632b69afdf62",
   "metadata": {},
   "outputs": [],
   "source": []
  },
  {
   "cell_type": "markdown",
   "id": "8943f47f-4141-4c31-8c23-feab294ce134",
   "metadata": {},
   "source": [
    "## Data Analysis"
   ]
  },
  {
   "cell_type": "markdown",
   "id": "108ba64e-dbbb-4859-b292-556422ad450a",
   "metadata": {},
   "source": [
    "1. What are the top 10 most viewed videos?\n",
    "2. Is there a correlation between the number of likes and views?\n",
    "3. How does the distribution of views vary across different categories?\n",
    "4.  Are there any trends in the number of likes and dislikes over time?\n",
    "5.  Which channels have the highest average views per video?\n",
    "6.  What is the average number of days a video remains on the trending list?\n",
    "7.  Is there a relationship between the number of comments and the number of views?\n",
    "8.  Do videos with disabled comments or ratings tend to have more or fewer views?"
   ]
  },
  {
   "cell_type": "markdown",
   "id": "1ded872b-492b-4824-8fd2-4b40105d4edb",
   "metadata": {
    "tags": []
   },
   "source": [
    "### 1. What are the top 10 most viewed videos?"
   ]
  },
  {
   "cell_type": "markdown",
   "id": "7f831052-1fb2-4df4-bebf-9b0ab08eef06",
   "metadata": {},
   "source": [
    "#### top 10 most viewed videos"
   ]
  },
  {
   "cell_type": "code",
   "execution_count": 160,
   "id": "56562e6b-2528-41a6-9255-e366c3acf4b3",
   "metadata": {
    "tags": []
   },
   "outputs": [
    {
     "data": {
      "text/html": [
       "<div>\n",
       "<style scoped>\n",
       "    .dataframe tbody tr th:only-of-type {\n",
       "        vertical-align: middle;\n",
       "    }\n",
       "\n",
       "    .dataframe tbody tr th {\n",
       "        vertical-align: top;\n",
       "    }\n",
       "\n",
       "    .dataframe thead th {\n",
       "        text-align: right;\n",
       "    }\n",
       "</style>\n",
       "<table border=\"1\" class=\"dataframe\">\n",
       "  <thead>\n",
       "    <tr style=\"text-align: right;\">\n",
       "      <th></th>\n",
       "      <th>video_id</th>\n",
       "      <th>title</th>\n",
       "      <th>channel_title</th>\n",
       "      <th>views</th>\n",
       "    </tr>\n",
       "  </thead>\n",
       "  <tbody>\n",
       "    <tr>\n",
       "      <th>0</th>\n",
       "      <td>VYOjWnS4cMY</td>\n",
       "      <td>Childish Gambino - This Is America (Official V...</td>\n",
       "      <td>ChildishGambinoVEVO</td>\n",
       "      <td>225211923</td>\n",
       "    </tr>\n",
       "    <tr>\n",
       "      <th>1</th>\n",
       "      <td>VYOjWnS4cMY</td>\n",
       "      <td>Childish Gambino - This Is America (Official V...</td>\n",
       "      <td>ChildishGambinoVEVO</td>\n",
       "      <td>220490543</td>\n",
       "    </tr>\n",
       "    <tr>\n",
       "      <th>2</th>\n",
       "      <td>VYOjWnS4cMY</td>\n",
       "      <td>Childish Gambino - This Is America (Official V...</td>\n",
       "      <td>ChildishGambinoVEVO</td>\n",
       "      <td>217750076</td>\n",
       "    </tr>\n",
       "    <tr>\n",
       "      <th>3</th>\n",
       "      <td>VYOjWnS4cMY</td>\n",
       "      <td>Childish Gambino - This Is America (Official V...</td>\n",
       "      <td>ChildishGambinoVEVO</td>\n",
       "      <td>210338856</td>\n",
       "    </tr>\n",
       "    <tr>\n",
       "      <th>4</th>\n",
       "      <td>VYOjWnS4cMY</td>\n",
       "      <td>Childish Gambino - This Is America (Official V...</td>\n",
       "      <td>ChildishGambinoVEVO</td>\n",
       "      <td>205643016</td>\n",
       "    </tr>\n",
       "    <tr>\n",
       "      <th>5</th>\n",
       "      <td>VYOjWnS4cMY</td>\n",
       "      <td>Childish Gambino - This Is America (Official V...</td>\n",
       "      <td>ChildishGambinoVEVO</td>\n",
       "      <td>200820941</td>\n",
       "    </tr>\n",
       "    <tr>\n",
       "      <th>6</th>\n",
       "      <td>VYOjWnS4cMY</td>\n",
       "      <td>Childish Gambino - This Is America (Official V...</td>\n",
       "      <td>ChildishGambinoVEVO</td>\n",
       "      <td>196222618</td>\n",
       "    </tr>\n",
       "    <tr>\n",
       "      <th>7</th>\n",
       "      <td>VYOjWnS4cMY</td>\n",
       "      <td>Childish Gambino - This Is America (Official V...</td>\n",
       "      <td>ChildishGambinoVEVO</td>\n",
       "      <td>190950401</td>\n",
       "    </tr>\n",
       "    <tr>\n",
       "      <th>8</th>\n",
       "      <td>VYOjWnS4cMY</td>\n",
       "      <td>Childish Gambino - This Is America (Official V...</td>\n",
       "      <td>ChildishGambinoVEVO</td>\n",
       "      <td>184446490</td>\n",
       "    </tr>\n",
       "    <tr>\n",
       "      <th>9</th>\n",
       "      <td>VYOjWnS4cMY</td>\n",
       "      <td>Childish Gambino - This Is America (Official V...</td>\n",
       "      <td>ChildishGambinoVEVO</td>\n",
       "      <td>179045286</td>\n",
       "    </tr>\n",
       "  </tbody>\n",
       "</table>\n",
       "</div>"
      ],
      "text/plain": [
       "      video_id                                              title  \\\n",
       "0  VYOjWnS4cMY  Childish Gambino - This Is America (Official V...   \n",
       "1  VYOjWnS4cMY  Childish Gambino - This Is America (Official V...   \n",
       "2  VYOjWnS4cMY  Childish Gambino - This Is America (Official V...   \n",
       "3  VYOjWnS4cMY  Childish Gambino - This Is America (Official V...   \n",
       "4  VYOjWnS4cMY  Childish Gambino - This Is America (Official V...   \n",
       "5  VYOjWnS4cMY  Childish Gambino - This Is America (Official V...   \n",
       "6  VYOjWnS4cMY  Childish Gambino - This Is America (Official V...   \n",
       "7  VYOjWnS4cMY  Childish Gambino - This Is America (Official V...   \n",
       "8  VYOjWnS4cMY  Childish Gambino - This Is America (Official V...   \n",
       "9  VYOjWnS4cMY  Childish Gambino - This Is America (Official V...   \n",
       "\n",
       "         channel_title      views  \n",
       "0  ChildishGambinoVEVO  225211923  \n",
       "1  ChildishGambinoVEVO  220490543  \n",
       "2  ChildishGambinoVEVO  217750076  \n",
       "3  ChildishGambinoVEVO  210338856  \n",
       "4  ChildishGambinoVEVO  205643016  \n",
       "5  ChildishGambinoVEVO  200820941  \n",
       "6  ChildishGambinoVEVO  196222618  \n",
       "7  ChildishGambinoVEVO  190950401  \n",
       "8  ChildishGambinoVEVO  184446490  \n",
       "9  ChildishGambinoVEVO  179045286  "
      ]
     },
     "execution_count": 160,
     "metadata": {},
     "output_type": "execute_result"
    }
   ],
   "source": [
    "df.sort_values('views', ascending=False)[:10][['video_id', 'title', 'channel_title', 'views']].reset_index(drop=True)"
   ]
  },
  {
   "cell_type": "markdown",
   "id": "1712eeed-9905-4883-a72a-f93abadf7dfe",
   "metadata": {},
   "source": [
    "I noticed that some of the videos have multiple entries into the trending list, but I want a list of the top 10 videos."
   ]
  },
  {
   "cell_type": "code",
   "execution_count": 48,
   "id": "fdcca76b-d341-4538-b9b5-130e76353555",
   "metadata": {
    "tags": []
   },
   "outputs": [],
   "source": [
    "# Group by video_id, then get the most viewed videos by \"views\"\n",
    "\n",
    "top_videos = (df.groupby(\"video_id\")\n",
    "                 .apply(lambda x: x.nlargest(1, \"views\"))\n",
    "                 .sort_values(by=\"views\", ascending=False).reset_index(drop=True))"
   ]
  },
  {
   "cell_type": "code",
   "execution_count": 73,
   "id": "bb56f382-8e90-4c62-a45f-9e85a16a984a",
   "metadata": {
    "tags": []
   },
   "outputs": [
    {
     "data": {
      "text/html": [
       "<div>\n",
       "<style scoped>\n",
       "    .dataframe tbody tr th:only-of-type {\n",
       "        vertical-align: middle;\n",
       "    }\n",
       "\n",
       "    .dataframe tbody tr th {\n",
       "        vertical-align: top;\n",
       "    }\n",
       "\n",
       "    .dataframe thead th {\n",
       "        text-align: right;\n",
       "    }\n",
       "</style>\n",
       "<table border=\"1\" class=\"dataframe\">\n",
       "  <thead>\n",
       "    <tr style=\"text-align: right;\">\n",
       "      <th></th>\n",
       "      <th>title</th>\n",
       "      <th>channel_title</th>\n",
       "      <th>views</th>\n",
       "    </tr>\n",
       "  </thead>\n",
       "  <tbody>\n",
       "    <tr>\n",
       "      <th>0</th>\n",
       "      <td>Childish Gambino - This Is America (Official V...</td>\n",
       "      <td>ChildishGambinoVEVO</td>\n",
       "      <td>225211923</td>\n",
       "    </tr>\n",
       "    <tr>\n",
       "      <th>1</th>\n",
       "      <td>YouTube Rewind: The Shape of 2017 | #YouTubeRe...</td>\n",
       "      <td>YouTube Spotlight</td>\n",
       "      <td>149376127</td>\n",
       "    </tr>\n",
       "    <tr>\n",
       "      <th>2</th>\n",
       "      <td>Ariana Grande - No Tears Left To Cry</td>\n",
       "      <td>ArianaGrandeVevo</td>\n",
       "      <td>148689896</td>\n",
       "    </tr>\n",
       "    <tr>\n",
       "      <th>3</th>\n",
       "      <td>Becky G, Natti Natasha - Sin Pijama (Official ...</td>\n",
       "      <td>BeckyGVEVO</td>\n",
       "      <td>139334502</td>\n",
       "    </tr>\n",
       "    <tr>\n",
       "      <th>4</th>\n",
       "      <td>BTS (방탄소년단) 'FAKE LOVE' Official MV</td>\n",
       "      <td>ibighit</td>\n",
       "      <td>123010920</td>\n",
       "    </tr>\n",
       "    <tr>\n",
       "      <th>5</th>\n",
       "      <td>The Weeknd - Call Out My Name (Official Video)</td>\n",
       "      <td>TheWeekndVEVO</td>\n",
       "      <td>122544931</td>\n",
       "    </tr>\n",
       "    <tr>\n",
       "      <th>6</th>\n",
       "      <td>Luis Fonsi, Demi Lovato - Échame La Culpa</td>\n",
       "      <td>LuisFonsiVEVO</td>\n",
       "      <td>102012605</td>\n",
       "    </tr>\n",
       "    <tr>\n",
       "      <th>7</th>\n",
       "      <td>Cardi B, Bad Bunny &amp; J Balvin - I Like It [Off...</td>\n",
       "      <td>Cardi B</td>\n",
       "      <td>94254507</td>\n",
       "    </tr>\n",
       "    <tr>\n",
       "      <th>8</th>\n",
       "      <td>Marvel Studios' Avengers: Infinity War Officia...</td>\n",
       "      <td>Marvel Entertainment</td>\n",
       "      <td>91933007</td>\n",
       "    </tr>\n",
       "    <tr>\n",
       "      <th>9</th>\n",
       "      <td>Maluma - El Préstamo (Official Video)</td>\n",
       "      <td>MalumaVEVO</td>\n",
       "      <td>87264467</td>\n",
       "    </tr>\n",
       "  </tbody>\n",
       "</table>\n",
       "</div>"
      ],
      "text/plain": [
       "                                               title         channel_title  \\\n",
       "0  Childish Gambino - This Is America (Official V...   ChildishGambinoVEVO   \n",
       "1  YouTube Rewind: The Shape of 2017 | #YouTubeRe...     YouTube Spotlight   \n",
       "2               Ariana Grande - No Tears Left To Cry      ArianaGrandeVevo   \n",
       "3  Becky G, Natti Natasha - Sin Pijama (Official ...            BeckyGVEVO   \n",
       "4                BTS (방탄소년단) 'FAKE LOVE' Official MV               ibighit   \n",
       "5     The Weeknd - Call Out My Name (Official Video)         TheWeekndVEVO   \n",
       "6          Luis Fonsi, Demi Lovato - Échame La Culpa         LuisFonsiVEVO   \n",
       "7  Cardi B, Bad Bunny & J Balvin - I Like It [Off...               Cardi B   \n",
       "8  Marvel Studios' Avengers: Infinity War Officia...  Marvel Entertainment   \n",
       "9              Maluma - El Préstamo (Official Video)            MalumaVEVO   \n",
       "\n",
       "       views  \n",
       "0  225211923  \n",
       "1  149376127  \n",
       "2  148689896  \n",
       "3  139334502  \n",
       "4  123010920  \n",
       "5  122544931  \n",
       "6  102012605  \n",
       "7   94254507  \n",
       "8   91933007  \n",
       "9   87264467  "
      ]
     },
     "execution_count": 73,
     "metadata": {},
     "output_type": "execute_result"
    }
   ],
   "source": [
    "top_ten_videos = top_videos[[\"title\", \"channel_title\", \"views\"]].iloc[:10]\n",
    "top_ten_videos"
   ]
  },
  {
   "cell_type": "code",
   "execution_count": 72,
   "id": "d0b6625b-43a6-4e5f-add5-72f0403aa534",
   "metadata": {
    "tags": []
   },
   "outputs": [
    {
     "data": {
      "image/png": "[encoded data removed]",
      "text/plain": [
       "<Figure size 1000x600 with 1 Axes>"
      ]
     },
     "metadata": {},
     "output_type": "display_data"
    }
   ],
   "source": [
    "fig, ax = plt.subplots(figsize=(10,6))\n",
    "ax.barh(top_ten_videos[\"title\"], top_ten_videos[\"views\"] / 1000000, color=\"skyblue\")\n",
    "ax.set_xlabel('Views (in Millions)')\n",
    "ax.set_ylabel('Title')\n",
    "ax.set_title('Top 10 Most Viewed Videos')\n",
    "ax.invert_yaxis()\n",
    "plt.show()"
   ]
  },
  {
   "cell_type": "code",
   "execution_count": null,
   "id": "5810a1bf-e516-474b-9f28-e82cde35f03d",
   "metadata": {},
   "outputs": [],
   "source": []
  },
  {
   "cell_type": "markdown",
   "id": "1feaa38e-7f2b-4e08-b91b-52623c41a7ba",
   "metadata": {},
   "source": [
    "### 2. Is there a correlation between the number of likes and views?"
   ]
  },
  {
   "cell_type": "code",
   "execution_count": 39,
   "id": "2b920722-08ea-426b-abeb-fa190d09fc7b",
   "metadata": {
    "tags": []
   },
   "outputs": [
    {
     "data": {
      "text/html": [
       "<div>\n",
       "<style scoped>\n",
       "    .dataframe tbody tr th:only-of-type {\n",
       "        vertical-align: middle;\n",
       "    }\n",
       "\n",
       "    .dataframe tbody tr th {\n",
       "        vertical-align: top;\n",
       "    }\n",
       "\n",
       "    .dataframe thead th {\n",
       "        text-align: right;\n",
       "    }\n",
       "</style>\n",
       "<table border=\"1\" class=\"dataframe\">\n",
       "  <thead>\n",
       "    <tr style=\"text-align: right;\">\n",
       "      <th></th>\n",
       "      <th>views</th>\n",
       "      <th>likes</th>\n",
       "    </tr>\n",
       "  </thead>\n",
       "  <tbody>\n",
       "    <tr>\n",
       "      <th>0</th>\n",
       "      <td>258506</td>\n",
       "      <td>459</td>\n",
       "    </tr>\n",
       "    <tr>\n",
       "      <th>1</th>\n",
       "      <td>50030</td>\n",
       "      <td>46</td>\n",
       "    </tr>\n",
       "    <tr>\n",
       "      <th>2</th>\n",
       "      <td>50117</td>\n",
       "      <td>46</td>\n",
       "    </tr>\n",
       "    <tr>\n",
       "      <th>3</th>\n",
       "      <td>49942</td>\n",
       "      <td>46</td>\n",
       "    </tr>\n",
       "    <tr>\n",
       "      <th>4</th>\n",
       "      <td>50168</td>\n",
       "      <td>46</td>\n",
       "    </tr>\n",
       "    <tr>\n",
       "      <th>...</th>\n",
       "      <td>...</td>\n",
       "      <td>...</td>\n",
       "    </tr>\n",
       "    <tr>\n",
       "      <th>40944</th>\n",
       "      <td>812832</td>\n",
       "      <td>7701</td>\n",
       "    </tr>\n",
       "    <tr>\n",
       "      <th>40945</th>\n",
       "      <td>1473589</td>\n",
       "      <td>214511</td>\n",
       "    </tr>\n",
       "    <tr>\n",
       "      <th>40946</th>\n",
       "      <td>296615</td>\n",
       "      <td>38671</td>\n",
       "    </tr>\n",
       "    <tr>\n",
       "      <th>40947</th>\n",
       "      <td>402418</td>\n",
       "      <td>10070</td>\n",
       "    </tr>\n",
       "    <tr>\n",
       "      <th>40948</th>\n",
       "      <td>1549110</td>\n",
       "      <td>21905</td>\n",
       "    </tr>\n",
       "  </tbody>\n",
       "</table>\n",
       "<p>40949 rows × 2 columns</p>\n",
       "</div>"
      ],
      "text/plain": [
       "         views   likes\n",
       "0       258506     459\n",
       "1        50030      46\n",
       "2        50117      46\n",
       "3        49942      46\n",
       "4        50168      46\n",
       "...        ...     ...\n",
       "40944   812832    7701\n",
       "40945  1473589  214511\n",
       "40946   296615   38671\n",
       "40947   402418   10070\n",
       "40948  1549110   21905\n",
       "\n",
       "[40949 rows x 2 columns]"
      ]
     },
     "execution_count": 39,
     "metadata": {},
     "output_type": "execute_result"
    }
   ],
   "source": [
    "# correlation between number of likes and views\n",
    "\n",
    "views_likes = df[[\"views\", \"likes\"]]\n",
    "views_likes"
   ]
  },
  {
   "cell_type": "code",
   "execution_count": 40,
   "id": "75361ff4-85c0-4762-ab61-f5505e8273a8",
   "metadata": {
    "tags": []
   },
   "outputs": [
    {
     "data": {
      "image/png": "[encoded data removed]",
      "text/plain": [
       "<Figure size 800x600 with 1 Axes>"
      ]
     },
     "metadata": {},
     "output_type": "display_data"
    }
   ],
   "source": [
    "fig, ax = plt.subplots(figsize=(8, 6))\n",
    "ax.scatter(views_likes[\"views\"], views_likes[\"likes\"], alpha=0.5, color='teal')\n",
    "ax.set_title(\"Relationship between number of Views and Likes\")\n",
    "ax.set_xlabel(\"Number of Views\")\n",
    "ax.set_ylabel(\"Number of Likes\")\n",
    "plt.show()"
   ]
  },
  {
   "cell_type": "code",
   "execution_count": 41,
   "id": "7f3d556a-62ba-45d2-94ee-4e7a93338b80",
   "metadata": {
    "tags": []
   },
   "outputs": [
    {
     "name": "stdout",
     "output_type": "stream",
     "text": [
      "Correlation between likes and views: 0.85\n"
     ]
    }
   ],
   "source": [
    "# Calculate the correlation coefficient\n",
    "correlation = views_likes[\"likes\"].corr(views_likes[\"views\"])\n",
    "\n",
    "# Print the correlation value\n",
    "print(f\"Correlation between likes and views: {correlation:.2f}\")"
   ]
  },
  {
   "cell_type": "markdown",
   "id": "26ea2d80-3526-4949-9b34-ef0dc8c9ff7a",
   "metadata": {},
   "source": [
    "A correlation coefficient of 0.85 indicates a strong positive correlation between likes and views. This means that as the number of likes increases, the number of views also tends to increase, and vice versa. In other words, videos with more likes tend to have more views, and videos with fewer likes tend to have fewer views."
   ]
  },
  {
   "cell_type": "code",
   "execution_count": null,
   "id": "b8a98f45-aa4f-4d46-892d-22e1efe9e8d0",
   "metadata": {},
   "outputs": [],
   "source": []
  },
  {
   "cell_type": "markdown",
   "id": "cbdd01be-e20d-47ba-bdde-bf5700c91055",
   "metadata": {},
   "source": [
    "### 3. How does the distribution of views vary across different categories?"
   ]
  },
  {
   "cell_type": "code",
   "execution_count": 63,
   "id": "0aa98540-4823-4fd0-8611-85c5bbb0e1b4",
   "metadata": {
    "tags": []
   },
   "outputs": [
    {
     "data": {
      "text/plain": [
       "category\n",
       "Entertainment            9964\n",
       "Music                    6472\n",
       "Howto & Style            4146\n",
       "Comedy                   3457\n",
       "People & Blogs           3210\n",
       "News & Politics          2487\n",
       "Science & Technology     2401\n",
       "Film & Animation         2345\n",
       "Sports                   2174\n",
       "Education                1656\n",
       "Pets & Animals            920\n",
       "Gaming                    817\n",
       "Travel & Events           402\n",
       "Autos & Vehicles          384\n",
       "Nonprofits & Activism      57\n",
       "Shows                      57\n",
       "Name: views, dtype: int64"
      ]
     },
     "execution_count": 63,
     "metadata": {},
     "output_type": "execute_result"
    }
   ],
   "source": [
    "# distribution of views accross categories\n",
    "\n",
    "data = df.groupby(\"category\").views.count().sort_values(ascending=False)\n",
    "data"
   ]
  },
  {
   "cell_type": "code",
   "execution_count": 65,
   "id": "b4c1d62c-157d-4539-84a6-a0c5fc4f5d02",
   "metadata": {
    "tags": []
   },
   "outputs": [
    {
     "data": {
      "image/png": "[encoded data removed]",
      "text/plain": [
       "<Figure size 800x500 with 1 Axes>"
      ]
     },
     "metadata": {},
     "output_type": "display_data"
    }
   ],
   "source": [
    "fig, ax = plt.subplots(figsize=(8,5))\n",
    "ax.barh(data.index, data.values, color=\"purple\")\n",
    "ax.invert_yaxis()\n",
    "ax.set_xlabel('Total number of views')\n",
    "ax.set_title('Total views by video category')\n",
    "plt.show()"
   ]
  },
  {
   "cell_type": "code",
   "execution_count": null,
   "id": "339e3d0e-b8ec-4294-9ded-cd4e25e39640",
   "metadata": {},
   "outputs": [],
   "source": []
  },
  {
   "cell_type": "code",
   "execution_count": null,
   "id": "15798755-e654-462f-b47b-e5434eba374a",
   "metadata": {},
   "outputs": [],
   "source": []
  },
  {
   "cell_type": "markdown",
   "id": "c674798f-230a-48d2-9af8-822942ea1858",
   "metadata": {},
   "source": [
    "### 4. Are there any trends in the number of likes and dislikes over time?"
   ]
  },
  {
   "cell_type": "code",
   "execution_count": 126,
   "id": "2ea8b20a-60e1-48a3-a6e6-2b5a9188df67",
   "metadata": {},
   "outputs": [],
   "source": [
    "likes_trend = df[[\"trending_date\", \"likes\", \"dislikes\"]]"
   ]
  },
  {
   "cell_type": "code",
   "execution_count": 128,
   "id": "39dd25fc-38e6-4ed5-bdba-a6f931bf0164",
   "metadata": {},
   "outputs": [
    {
     "name": "stderr",
     "output_type": "stream",
     "text": [
      "C:\\Users\\Dell\\AppData\\Local\\Temp\\ipykernel_7184\\1178574289.py:1: SettingWithCopyWarning: \n",
      "A value is trying to be set on a copy of a slice from a DataFrame.\n",
      "Try using .loc[row_indexer,col_indexer] = value instead\n",
      "\n",
      "See the caveats in the documentation: https://pandas.pydata.org/pandas-docs/stable/user_guide/indexing.html#returning-a-view-versus-a-copy\n",
      "  likes_trend.loc[:, \"date\"] = likes_trend[\"trending_date\"].dt.strftime(\"%m-%Y\")\n"
     ]
    }
   ],
   "source": [
    "likes_trend.loc[:, \"date\"] = likes_trend[\"trending_date\"].dt.strftime(\"%m-%Y\")"
   ]
  },
  {
   "cell_type": "code",
   "execution_count": 131,
   "id": "4c266f84-c8ea-41c7-ab0e-8c7d022ba2e1",
   "metadata": {},
   "outputs": [
    {
     "data": {
      "text/html": [
       "<div>\n",
       "<style scoped>\n",
       "    .dataframe tbody tr th:only-of-type {\n",
       "        vertical-align: middle;\n",
       "    }\n",
       "\n",
       "    .dataframe tbody tr th {\n",
       "        vertical-align: top;\n",
       "    }\n",
       "\n",
       "    .dataframe thead th {\n",
       "        text-align: right;\n",
       "    }\n",
       "</style>\n",
       "<table border=\"1\" class=\"dataframe\">\n",
       "  <thead>\n",
       "    <tr style=\"text-align: right;\">\n",
       "      <th></th>\n",
       "      <th>likes</th>\n",
       "      <th>dislikes</th>\n",
       "    </tr>\n",
       "    <tr>\n",
       "      <th>date</th>\n",
       "      <th></th>\n",
       "      <th></th>\n",
       "    </tr>\n",
       "  </thead>\n",
       "  <tbody>\n",
       "    <tr>\n",
       "      <th>01-2018</th>\n",
       "      <td>251882440</td>\n",
       "      <td>22243761</td>\n",
       "    </tr>\n",
       "    <tr>\n",
       "      <th>02-2018</th>\n",
       "      <td>217896307</td>\n",
       "      <td>10478352</td>\n",
       "    </tr>\n",
       "    <tr>\n",
       "      <th>03-2018</th>\n",
       "      <td>402809262</td>\n",
       "      <td>14429156</td>\n",
       "    </tr>\n",
       "    <tr>\n",
       "      <th>04-2018</th>\n",
       "      <td>442508556</td>\n",
       "      <td>16760897</td>\n",
       "    </tr>\n",
       "    <tr>\n",
       "      <th>05-2018</th>\n",
       "      <td>828146533</td>\n",
       "      <td>36880602</td>\n",
       "    </tr>\n",
       "    <tr>\n",
       "      <th>06-2018</th>\n",
       "      <td>441504651</td>\n",
       "      <td>22170121</td>\n",
       "    </tr>\n",
       "    <tr>\n",
       "      <th>11-2017</th>\n",
       "      <td>159032378</td>\n",
       "      <td>5412376</td>\n",
       "    </tr>\n",
       "    <tr>\n",
       "      <th>12-2017</th>\n",
       "      <td>297367071</td>\n",
       "      <td>23602890</td>\n",
       "    </tr>\n",
       "  </tbody>\n",
       "</table>\n",
       "</div>"
      ],
      "text/plain": [
       "             likes  dislikes\n",
       "date                        \n",
       "01-2018  251882440  22243761\n",
       "02-2018  217896307  10478352\n",
       "03-2018  402809262  14429156\n",
       "04-2018  442508556  16760897\n",
       "05-2018  828146533  36880602\n",
       "06-2018  441504651  22170121\n",
       "11-2017  159032378   5412376\n",
       "12-2017  297367071  23602890"
      ]
     },
     "execution_count": 131,
     "metadata": {},
     "output_type": "execute_result"
    }
   ],
   "source": [
    "data = likes_trend.groupby(\"date\")[[\"likes\", \"dislikes\"]].sum()\n",
    "data"
   ]
  },
  {
   "cell_type": "code",
   "execution_count": 141,
   "id": "34d96f53-fb8d-4a7a-a73c-7db616d7ea0d",
   "metadata": {
    "tags": []
   },
   "outputs": [
    {
     "data": {
      "image/png": "[encoded data removed]",
      "text/plain": [
       "<Figure size 1000x500 with 2 Axes>"
      ]
     },
     "metadata": {},
     "output_type": "display_data"
    }
   ],
   "source": [
    "fig, ax = plt.subplots(figsize=(10, 5))\n",
    "ax.plot(data.index, data.likes / 1000000, color = \"green\", label = \"likes\")\n",
    "ax.set_ylabel(\"no. of likes (in millions)\")\n",
    "ax2 = ax.twinx()\n",
    "ax2.plot(data.index, data.dislikes / 1000000, color = \"red\", label = \"dislikes\")\n",
    "ax2.set_ylabel(\"No of dislikes (in millions)\")\n",
    "ax.set_title(\"Number of likes and dislikes across the studied period\")\n",
    "ax.legend()\n",
    "plt.show()"
   ]
  },
  {
   "cell_type": "code",
   "execution_count": null,
   "id": "921cd2ff-316f-4631-814f-644cc0d96f78",
   "metadata": {},
   "outputs": [],
   "source": []
  },
  {
   "cell_type": "code",
   "execution_count": null,
   "id": "64812a91-5e63-4f1e-96a8-fa7ec269a259",
   "metadata": {},
   "outputs": [],
   "source": []
  },
  {
   "cell_type": "markdown",
   "id": "969454b0-2989-4dbd-9c63-be1c2ca0c0b8",
   "metadata": {},
   "source": [
    "### 5. Which channels have the highest average views per video?"
   ]
  },
  {
   "cell_type": "markdown",
   "id": "5982b83c-b617-4d2b-8ea3-197f922b75f3",
   "metadata": {},
   "source": [
    "Each video may have repeated values for different number of views, due to the fact that they entered and went out of the trending videos list. I will take the maximum number of views per each unique video. Then I will work out the average views number per channel."
   ]
  },
  {
   "cell_type": "code",
   "execution_count": 75,
   "id": "206a4be8-d7b5-4a65-aaa7-fe09fdae6236",
   "metadata": {
    "tags": []
   },
   "outputs": [
    {
     "data": {
      "text/html": [
       "<div>\n",
       "<style scoped>\n",
       "    .dataframe tbody tr th:only-of-type {\n",
       "        vertical-align: middle;\n",
       "    }\n",
       "\n",
       "    .dataframe tbody tr th {\n",
       "        vertical-align: top;\n",
       "    }\n",
       "\n",
       "    .dataframe thead th {\n",
       "        text-align: right;\n",
       "    }\n",
       "</style>\n",
       "<table border=\"1\" class=\"dataframe\">\n",
       "  <thead>\n",
       "    <tr style=\"text-align: right;\">\n",
       "      <th></th>\n",
       "      <th>channel_title</th>\n",
       "      <th>title</th>\n",
       "      <th>views</th>\n",
       "    </tr>\n",
       "  </thead>\n",
       "  <tbody>\n",
       "    <tr>\n",
       "      <th>34845</th>\n",
       "      <td>ChildishGambinoVEVO</td>\n",
       "      <td>Childish Gambino - This Is America (Official V...</td>\n",
       "      <td>225211923</td>\n",
       "    </tr>\n",
       "    <tr>\n",
       "      <th>5553</th>\n",
       "      <td>YouTube Spotlight</td>\n",
       "      <td>YouTube Rewind: The Shape of 2017 | #YouTubeRe...</td>\n",
       "      <td>149376127</td>\n",
       "    </tr>\n",
       "    <tr>\n",
       "      <th>31355</th>\n",
       "      <td>ArianaGrandeVevo</td>\n",
       "      <td>Ariana Grande - No Tears Left To Cry</td>\n",
       "      <td>148689896</td>\n",
       "    </tr>\n",
       "    <tr>\n",
       "      <th>31438</th>\n",
       "      <td>BeckyGVEVO</td>\n",
       "      <td>Becky G, Natti Natasha - Sin Pijama (Official ...</td>\n",
       "      <td>139334502</td>\n",
       "    </tr>\n",
       "    <tr>\n",
       "      <th>37744</th>\n",
       "      <td>ibighit</td>\n",
       "      <td>BTS (방탄소년단) 'FAKE LOVE' Official MV</td>\n",
       "      <td>123010920</td>\n",
       "    </tr>\n",
       "    <tr>\n",
       "      <th>...</th>\n",
       "      <td>...</td>\n",
       "      <td>...</td>\n",
       "      <td>...</td>\n",
       "    </tr>\n",
       "    <tr>\n",
       "      <th>255</th>\n",
       "      <td>90s Commercials</td>\n",
       "      <td>Huffy Metaloid Bicycle Commercial 1997</td>\n",
       "      <td>773</td>\n",
       "    </tr>\n",
       "    <tr>\n",
       "      <th>12992</th>\n",
       "      <td>Associated Press</td>\n",
       "      <td>Raw: 3 South Carolina Deputies, 1 Officer Shot</td>\n",
       "      <td>748</td>\n",
       "    </tr>\n",
       "    <tr>\n",
       "      <th>12021</th>\n",
       "      <td>Palo Alto Online</td>\n",
       "      <td>Artwork Forge</td>\n",
       "      <td>745</td>\n",
       "    </tr>\n",
       "    <tr>\n",
       "      <th>986</th>\n",
       "      <td>GoDucksdotcom</td>\n",
       "      <td>Coach Taggart Monday Presser Ahead of Arizona</td>\n",
       "      <td>704</td>\n",
       "    </tr>\n",
       "    <tr>\n",
       "      <th>14505</th>\n",
       "      <td>Newsy</td>\n",
       "      <td>1 dead, others injured after Ky. school shooting</td>\n",
       "      <td>559</td>\n",
       "    </tr>\n",
       "  </tbody>\n",
       "</table>\n",
       "<p>6468 rows × 3 columns</p>\n",
       "</div>"
      ],
      "text/plain": [
       "             channel_title                                              title  \\\n",
       "34845  ChildishGambinoVEVO  Childish Gambino - This Is America (Official V...   \n",
       "5553     YouTube Spotlight  YouTube Rewind: The Shape of 2017 | #YouTubeRe...   \n",
       "31355     ArianaGrandeVevo               Ariana Grande - No Tears Left To Cry   \n",
       "31438           BeckyGVEVO  Becky G, Natti Natasha - Sin Pijama (Official ...   \n",
       "37744              ibighit                BTS (방탄소년단) 'FAKE LOVE' Official MV   \n",
       "...                    ...                                                ...   \n",
       "255        90s Commercials             Huffy Metaloid Bicycle Commercial 1997   \n",
       "12992     Associated Press     Raw: 3 South Carolina Deputies, 1 Officer Shot   \n",
       "12021     Palo Alto Online                                      Artwork Forge   \n",
       "986          GoDucksdotcom      Coach Taggart Monday Presser Ahead of Arizona   \n",
       "14505                Newsy   1 dead, others injured after Ky. school shooting   \n",
       "\n",
       "           views  \n",
       "34845  225211923  \n",
       "5553   149376127  \n",
       "31355  148689896  \n",
       "31438  139334502  \n",
       "37744  123010920  \n",
       "...          ...  \n",
       "255          773  \n",
       "12992        748  \n",
       "12021        745  \n",
       "986          704  \n",
       "14505        559  \n",
       "\n",
       "[6468 rows x 3 columns]"
      ]
     },
     "execution_count": 75,
     "metadata": {},
     "output_type": "execute_result"
    }
   ],
   "source": [
    "# max number of views per unique video\n",
    "videos = df[['channel_title', 'title', 'views']].sort_values('views', ascending = False)\n",
    "# keep only the most viewed register for each unique combination of channel and title\n",
    "videos = videos.drop_duplicates(['channel_title', 'title'])"
   ]
  },
  {
   "cell_type": "code",
   "execution_count": 81,
   "id": "ac6f5b4e-484a-4a03-9dd4-ca7f915d06ac",
   "metadata": {
    "tags": []
   },
   "outputs": [
    {
     "data": {
      "text/plain": [
       "channel_title\n",
       "ESPN                                      84\n",
       "TheEllenShow                              74\n",
       "The Tonight Show Starring Jimmy Fallon    72\n",
       "Jimmy Kimmel Live                         70\n",
       "Netflix                                   58\n",
       "                                          ..\n",
       "Thomas Sebastian                           1\n",
       "FaeryInLoveInc                             1\n",
       "Renault Sport                              1\n",
       "CMAVEVO                                    1\n",
       "GoDucksdotcom                              1\n",
       "Name: count, Length: 2207, dtype: int64"
      ]
     },
     "execution_count": 81,
     "metadata": {},
     "output_type": "execute_result"
    }
   ],
   "source": [
    "# check if there are channels with more than one videos that got into the trending list\n",
    "\n",
    "videos[\"channel_title\"].value_counts().sort_values(ascending = False)"
   ]
  },
  {
   "cell_type": "code",
   "execution_count": 98,
   "id": "c0fcdd11-f139-47ba-b834-9eea0cae2213",
   "metadata": {
    "tags": []
   },
   "outputs": [],
   "source": [
    "top_avg_views_by_channel = videos.groupby(\"channel_title\").views.mean().sort_values(ascending=False)"
   ]
  },
  {
   "cell_type": "code",
   "execution_count": 102,
   "id": "f51bc03d-3bfd-485d-a7b1-c76368409b3e",
   "metadata": {
    "tags": []
   },
   "outputs": [
    {
     "data": {
      "image/png": "[encoded data removed]",
      "text/plain": [
       "<Figure size 800x500 with 1 Axes>"
      ]
     },
     "metadata": {},
     "output_type": "display_data"
    }
   ],
   "source": [
    "data = top_avg_views_by_channel.iloc[:10]\n",
    "fig, ax = plt.subplots(figsize=(8,5))\n",
    "ax.barh(data.index, data.values / 1000000, color=\"purple\")\n",
    "ax.set_title(\"Channels with Highest Average Views Per Video\")\n",
    "ax.set_xlabel(\"Average Views (in Millions)\")\n",
    "ax.set_ylabel(\"Youtube Channel\")\n",
    "ax.invert_yaxis()\n",
    "plt.show()"
   ]
  },
  {
   "cell_type": "code",
   "execution_count": null,
   "id": "b17c4a26-ed9f-48dc-9f2b-1942b4b7ca86",
   "metadata": {},
   "outputs": [],
   "source": []
  },
  {
   "cell_type": "code",
   "execution_count": null,
   "id": "5af0bc88-9148-450b-9288-c6fac80dff1f",
   "metadata": {},
   "outputs": [],
   "source": []
  },
  {
   "cell_type": "markdown",
   "id": "262154f6-11d9-4e42-a93f-ccd956bc96f8",
   "metadata": {},
   "source": [
    "### 6.What is the average number of days a video remains on the trending list?"
   ]
  },
  {
   "cell_type": "markdown",
   "id": "ee3e1e9a-b469-4272-abe6-1ed31717f2ac",
   "metadata": {},
   "source": [
    "Difference between first and last trending_date"
   ]
  },
  {
   "cell_type": "code",
   "execution_count": 109,
   "id": "62ea7151-0e56-465f-977f-7292d77c2456",
   "metadata": {},
   "outputs": [],
   "source": [
    "# Group by video_id and calculate the difference in days between first and last trending dates\n",
    "video_trend_duration = df.groupby('video_id')['trending_date'].apply(lambda x: (x.max() - x.min()).days)"
   ]
  },
  {
   "cell_type": "code",
   "execution_count": 122,
   "id": "48cb96ef-c2bb-4741-8679-554503fc1e72",
   "metadata": {},
   "outputs": [
    {
     "name": "stdout",
     "output_type": "stream",
     "text": [
      "Average number of days a video remains on the trending list: 6.00 days\n"
     ]
    }
   ],
   "source": [
    "# Calculate the average trend duration\n",
    "average_trend_duration = video_trend_duration.mean().round()\n",
    "\n",
    "# Format the average trend duration\n",
    "formatted_duration = \"{:.2f} days\".format(average_trend_duration)\n",
    "\n",
    "print(\"Average number of days a video remains on the trending list:\", formatted_duration)"
   ]
  },
  {
   "cell_type": "code",
   "execution_count": null,
   "id": "3e8982a0-38ec-4ca1-aded-8dc6f13e8048",
   "metadata": {},
   "outputs": [],
   "source": []
  },
  {
   "cell_type": "markdown",
   "id": "8425bae3-b2ee-42c3-bcc7-a548cc524dac",
   "metadata": {},
   "source": [
    "### 7. Is there a relationship between the number of comments and the number of views?"
   ]
  },
  {
   "cell_type": "markdown",
   "id": "26022033-fecb-4b04-8ecd-c13faffb6620",
   "metadata": {},
   "source": [
    "Since each video, as I noted before, may have repeated values for different number of views, I will take the video with the maximum number of views per each unique video."
   ]
  },
  {
   "cell_type": "code",
   "execution_count": 146,
   "id": "ed7c2fb1-cc57-4b3a-b9c7-de669f833eb7",
   "metadata": {},
   "outputs": [],
   "source": [
    "# max number of views per unique video\n",
    "videos = df[['channel_title', 'title', 'views', 'comment_count']].sort_values('views', ascending = False)\n",
    "# keep only the most viewed register for each unique combination of channel and title\n",
    "videos = videos.drop_duplicates(['channel_title', 'title'])"
   ]
  },
  {
   "cell_type": "markdown",
   "id": "e8fd8f41-9f24-4c64-ab39-0673323bc415",
   "metadata": {},
   "source": [
    "Get the number of views and comments per video:"
   ]
  },
  {
   "cell_type": "code",
   "execution_count": 147,
   "id": "d97d57c9-8778-4661-9903-16040c16d28f",
   "metadata": {},
   "outputs": [],
   "source": [
    "data = videos.set_index(['channel_title', 'title'])[['comment_count', 'views']]"
   ]
  },
  {
   "cell_type": "code",
   "execution_count": 148,
   "id": "385affef-0474-425e-9179-015aad85864f",
   "metadata": {
    "tags": []
   },
   "outputs": [
    {
     "data": {
      "text/html": [
       "<div>\n",
       "<style scoped>\n",
       "    .dataframe tbody tr th:only-of-type {\n",
       "        vertical-align: middle;\n",
       "    }\n",
       "\n",
       "    .dataframe tbody tr th {\n",
       "        vertical-align: top;\n",
       "    }\n",
       "\n",
       "    .dataframe thead th {\n",
       "        text-align: right;\n",
       "    }\n",
       "</style>\n",
       "<table border=\"1\" class=\"dataframe\">\n",
       "  <thead>\n",
       "    <tr style=\"text-align: right;\">\n",
       "      <th></th>\n",
       "      <th></th>\n",
       "      <th>comment_count</th>\n",
       "      <th>views</th>\n",
       "    </tr>\n",
       "    <tr>\n",
       "      <th>channel_title</th>\n",
       "      <th>title</th>\n",
       "      <th></th>\n",
       "      <th></th>\n",
       "    </tr>\n",
       "  </thead>\n",
       "  <tbody>\n",
       "    <tr>\n",
       "      <th>ChildishGambinoVEVO</th>\n",
       "      <th>Childish Gambino - This Is America (Official Video)</th>\n",
       "      <td>517232</td>\n",
       "      <td>225211923</td>\n",
       "    </tr>\n",
       "    <tr>\n",
       "      <th>YouTube Spotlight</th>\n",
       "      <th>YouTube Rewind: The Shape of 2017 | #YouTubeRewind</th>\n",
       "      <td>810698</td>\n",
       "      <td>149376127</td>\n",
       "    </tr>\n",
       "    <tr>\n",
       "      <th>ArianaGrandeVevo</th>\n",
       "      <th>Ariana Grande - No Tears Left To Cry</th>\n",
       "      <td>242039</td>\n",
       "      <td>148689896</td>\n",
       "    </tr>\n",
       "    <tr>\n",
       "      <th>BeckyGVEVO</th>\n",
       "      <th>Becky G, Natti Natasha - Sin Pijama (Official Video)</th>\n",
       "      <td>83941</td>\n",
       "      <td>139334502</td>\n",
       "    </tr>\n",
       "    <tr>\n",
       "      <th>ibighit</th>\n",
       "      <th>BTS (방탄소년단) 'FAKE LOVE' Official MV</th>\n",
       "      <td>1228655</td>\n",
       "      <td>123010920</td>\n",
       "    </tr>\n",
       "  </tbody>\n",
       "</table>\n",
       "</div>"
      ],
      "text/plain": [
       "                                                                        comment_count  \\\n",
       "channel_title       title                                                               \n",
       "ChildishGambinoVEVO Childish Gambino - This Is America (Official Vi...         517232   \n",
       "YouTube Spotlight   YouTube Rewind: The Shape of 2017 | #YouTubeRewind         810698   \n",
       "ArianaGrandeVevo    Ariana Grande - No Tears Left To Cry                       242039   \n",
       "BeckyGVEVO          Becky G, Natti Natasha - Sin Pijama (Official V...          83941   \n",
       "ibighit             BTS (방탄소년단) 'FAKE LOVE' Official MV                       1228655   \n",
       "\n",
       "                                                                            views  \n",
       "channel_title       title                                                          \n",
       "ChildishGambinoVEVO Childish Gambino - This Is America (Official Vi...  225211923  \n",
       "YouTube Spotlight   YouTube Rewind: The Shape of 2017 | #YouTubeRewind  149376127  \n",
       "ArianaGrandeVevo    Ariana Grande - No Tears Left To Cry                148689896  \n",
       "BeckyGVEVO          Becky G, Natti Natasha - Sin Pijama (Official V...  139334502  \n",
       "ibighit             BTS (방탄소년단) 'FAKE LOVE' Official MV                 123010920  "
      ]
     },
     "execution_count": 148,
     "metadata": {},
     "output_type": "execute_result"
    }
   ],
   "source": [
    "data.head()"
   ]
  },
  {
   "cell_type": "markdown",
   "id": "6cc7a093-b7e9-433e-ae75-24e3c32c258b",
   "metadata": {},
   "source": [
    "#### Linear regression\n",
    "Followed this tutorial at [realpython.com](https://realpython.com)"
   ]
  },
  {
   "cell_type": "code",
   "execution_count": null,
   "id": "c0ce2b3a-ce81-40fe-a17f-87f93cd86250",
   "metadata": {},
   "outputs": [],
   "source": [
    "# if not installed, uncomment and run this command to install library\n",
    "#!pip install scikit-learn"
   ]
  },
  {
   "cell_type": "code",
   "execution_count": 153,
   "id": "bce1ab9f-a8b8-47e9-89ed-92296febc443",
   "metadata": {
    "tags": []
   },
   "outputs": [],
   "source": [
    "from sklearn.linear_model import LinearRegression"
   ]
  },
  {
   "cell_type": "code",
   "execution_count": 154,
   "id": "4ba650a4-1b6e-40a1-9ac0-76c8c13c3a81",
   "metadata": {
    "tags": []
   },
   "outputs": [],
   "source": [
    "# x because this array must be two-dimensional, or more precisely, it must have one column and as many rows as necessary.\n",
    "# That’s exactly what the argument (-1, 1) of .reshape() specifies.\n",
    "x = np.array(data.views).reshape((-1, 1))\n",
    "y = np.array(data.comment_count)\n",
    "model = LinearRegression().fit(x, y)"
   ]
  },
  {
   "cell_type": "markdown",
   "id": "d42f93a2-0b1c-49de-9577-a39eef49a3b2",
   "metadata": {},
   "source": [
    "Once the linear regression is done, I want to have the intercept (.intercept_) and slope (.coef_) values, as well as the determination coefficient 𝑅² (.score())."
   ]
  },
  {
   "cell_type": "code",
   "execution_count": 155,
   "id": "6222324e-40af-4e5c-b6a9-5488e1db7a49",
   "metadata": {
    "tags": []
   },
   "outputs": [],
   "source": [
    "intercept = model.intercept_\n",
    "slope = model.coef_[0]\n",
    "det_coef = model.score(x,y)"
   ]
  },
  {
   "cell_type": "markdown",
   "id": "7558bc9d-65da-4409-8b0e-8ad902bbe5e5",
   "metadata": {},
   "source": [
    "Results of the linear regresssion:"
   ]
  },
  {
   "cell_type": "code",
   "execution_count": 156,
   "id": "64e8ae00-f770-4b6e-8c1f-ee0e5f521a14",
   "metadata": {
    "tags": []
   },
   "outputs": [
    {
     "name": "stdout",
     "output_type": "stream",
     "text": [
      "Linear regression: y = 0.003 · x + 1042.207\n",
      "Determination coefficient (for goodness of linear regression) is: 0.329\n"
     ]
    }
   ],
   "source": [
    "print(f'Linear regression: y = {slope.round(3)} · x + {intercept.round(3)}')\n",
    "print(f'Determination coefficient (for goodness of linear regression) is: {det_coef.round(3)}')"
   ]
  },
  {
   "cell_type": "code",
   "execution_count": 157,
   "id": "ab022fac-4f70-47ba-b610-d3485328ec17",
   "metadata": {
    "tags": []
   },
   "outputs": [],
   "source": [
    "estimated_comment_count = np.array(data.views) * slope + intercept"
   ]
  },
  {
   "cell_type": "code",
   "execution_count": 158,
   "id": "fdeece5c-1fb0-4fb7-a6b6-9b092a576e07",
   "metadata": {
    "tags": []
   },
   "outputs": [
    {
     "data": {
      "image/png": "[encoded data removed]",
      "text/plain": [
       "<Figure size 800x500 with 1 Axes>"
      ]
     },
     "metadata": {},
     "output_type": "display_data"
    }
   ],
   "source": [
    "fig, ax = plt.subplots(figsize=(8,5))\n",
    "ax.scatter((data.views * 1E-6), (data.comment_count * 1E-6), s=5, alpha=0.5, edgecolor='darkturquoise', facecolor='none', marker='^')\n",
    "ax.plot((data.views * 1E-6), (estimated_comment_count * 1E-6), lw=1, ls='dashdot', color='red')\n",
    "ax.set_xlabel('Number of views, Millions')\n",
    "ax.set_ylabel('Number of comments, Millions')\n",
    "ax.set_title('Relationship between number of views and comments')\n",
    "# add linear model equation to plot\n",
    "plt.text(100, 0.6, r'$y = 0.026x + 12210.357$', fontsize=12)\n",
    "plt.show()"
   ]
  },
  {
   "cell_type": "code",
   "execution_count": null,
   "id": "508c1709-1a19-423c-962d-eba54c0f4afa",
   "metadata": {},
   "outputs": [],
   "source": []
  },
  {
   "cell_type": "code",
   "execution_count": null,
   "id": "6ef238e4-6e49-401d-a0d4-ada0d5efc9e8",
   "metadata": {},
   "outputs": [],
   "source": []
  },
  {
   "cell_type": "markdown",
   "id": "03ca9f9e-0655-485a-8224-4e4c88fd1b36",
   "metadata": {},
   "source": [
    "### 8. Do videos with disabled comments or ratings tend to have more or fewer views?"
   ]
  },
  {
   "cell_type": "code",
   "execution_count": 142,
   "id": "709343c7-0b7d-4f9a-b99f-86b655a422da",
   "metadata": {},
   "outputs": [],
   "source": [
    "# max number of views per unique video\n",
    "videos = df[['channel_title', 'title', 'views', 'comments_disabled', 'ratings_disabled']].sort_values('views', ascending = False)\n",
    "# keep only the most viewed register for each unique combination of channel and title\n",
    "videos = videos.drop_duplicates(['channel_title', 'title'])"
   ]
  },
  {
   "cell_type": "markdown",
   "id": "2c4e012a-8eb6-4b1e-ac9d-5f812ff39e65",
   "metadata": {},
   "source": [
    "Get the number of views and comments per video:"
   ]
  },
  {
   "cell_type": "code",
   "execution_count": 143,
   "id": "d7d736c7-4836-43b4-875b-2b37493c438e",
   "metadata": {},
   "outputs": [],
   "source": [
    "data = videos.set_index(['channel_title', 'title'])[['comments_disabled', 'ratings_disabled', 'views']]\n",
    "data_comments = data.groupby('comments_disabled').views.sum()\n",
    "data_ratings = data.groupby('ratings_disabled').views.sum()"
   ]
  },
  {
   "cell_type": "code",
   "execution_count": 144,
   "id": "11e5c2ed-4f75-4088-ac53-36d7ea1c2904",
   "metadata": {
    "tags": []
   },
   "outputs": [],
   "source": [
    "data_comments.index = ['Enabled', 'Disabled']\n",
    "data_ratings.index = ['Enabled', 'Disabled']"
   ]
  },
  {
   "cell_type": "code",
   "execution_count": 145,
   "id": "76f32523-4236-4a06-93fa-1e9e882c9a55",
   "metadata": {
    "tags": []
   },
   "outputs": [
    {
     "data": {
      "image/png": "[encoded data removed]",
      "text/plain": [
       "<Figure size 1000x400 with 2 Axes>"
      ]
     },
     "metadata": {},
     "output_type": "display_data"
    }
   ],
   "source": [
    "fig, ax = plt.subplots(1,2, figsize=(10,4))\n",
    "ax[0].bar(data_comments.index, data_comments.values * 1E-9, label='Comments')\n",
    "ax[0].set_title('Comments')\n",
    "ax[0].set_ylabel('No. videos, Thousands of millions')\n",
    "ax[1].bar(data_ratings.index, data_ratings.values * 1E-9)\n",
    "ax[1].set_ylabel('No. videos, Thousands of millions')\n",
    "ax[1].set_title('Ratings')\n",
    "plt.show()"
   ]
  },
  {
   "cell_type": "code",
   "execution_count": null,
   "id": "88e364bc-661e-4f51-8a26-63891160d2c9",
   "metadata": {},
   "outputs": [],
   "source": []
  }
 ],
 "metadata": {
  "@deathbeds/jupyterlab-fonts": {
   "fontLicenses": {
    "Anonymous Pro Bold": {
     "holders": [
      "Copyright (c) 2009, Mark Simonson (http://www.ms-studio.com, mark@marksimonson.com), with Reserved Font Name Anonymous Pro Minus."
     ],
     "name": "SIL Open Font License 1.1",
     "spdx": "OFL-1.1",
     "text": "Copyright (c) 2009, Mark Simonson (http://www.ms-studio.com, mark@marksimonson.com),\nwith Reserved Font Name Anonymous Pro Minus.\n\nThis Font Software is licensed under the SIL Open Font License, Version 1.1.\nThis license is copied below, and is also available with a FAQ at:\nhttp://scripts.sil.org/OFL\n\n\n-----------------------------------------------------------\nSIL OPEN FONT LICENSE Version 1.1 - 26 February 2007\n-----------------------------------------------------------\n\nPREAMBLE\nThe goals of the Open Font License (OFL) are to stimulate worldwide\ndevelopment of collaborative font projects, to support the font creation\nefforts of academic and linguistic communities, and to provide a free and\nopen framework in which fonts may be shared and improved in partnership\nwith others.\n\nThe OFL allows the licensed fonts to be used, studied, modified and\nredistributed freely as long as they are not sold by themselves. The\nfonts, including any derivative works, can be bundled, embedded,\nredistributed and/or sold with any software provided that any reserved\nnames are not used by derivative works. The fonts and derivatives,\nhowever, cannot be released under any other type of license. The\nrequirement for fonts to remain under this license does not apply\nto any document created using the fonts or their derivatives.\n\nDEFINITIONS\n\"Font Software\" refers to the set of files released by the Copyright\nHolder(s) under this license and clearly marked as such. This may\ninclude source files, build scripts and documentation.\n\n\"Reserved Font Name\" refers to any names specified as such after the\ncopyright statement(s).\n\n\"Original Version\" refers to the collection of Font Software components as\ndistributed by the Copyright Holder(s).\n\n\"Modified Version\" refers to any derivative made by adding to, deleting,\nor substituting -- in part or in whole -- any of the components of the\nOriginal Version, by changing formats or by porting the Font Software to a\nnew environment.\n\n\"Author\" refers to any designer, engineer, programmer, technical\nwriter or other person who contributed to the Font Software.\n\nPERMISSION & CONDITIONS\nPermission is hereby granted, free of charge, to any person obtaining\na copy of the Font Software, to use, study, copy, merge, embed, modify,\nredistribute, and sell modified and unmodified copies of the Font\nSoftware, subject to the following conditions:\n\n1) Neither the Font Software nor any of its individual components,\nin Original or Modified Versions, may be sold by itself.\n\n2) Original or Modified Versions of the Font Software may be bundled,\nredistributed and/or sold with any software, provided that each copy\ncontains the above copyright notice and this license. These can be\nincluded either as stand-alone text files, human-readable headers or\nin the appropriate machine-readable metadata fields within text or\nbinary files as long as those fields can be easily viewed by the user.\n\n3) No Modified Version of the Font Software may use the Reserved Font\nName(s) unless explicit written permission is granted by the corresponding\nCopyright Holder. This restriction only applies to the primary font name as\npresented to the users.\n\n4) The name(s) of the Copyright Holder(s) or the Author(s) of the Font\nSoftware shall not be used to promote, endorse or advertise any\nModified Version, except to acknowledge the contribution(s) of the\nCopyright Holder(s) and the Author(s) or with their explicit written\npermission.\n\n5) The Font Software, modified or unmodified, in part or in whole,\nmust be distributed entirely under this license, and must not be\ndistributed under any other license. The requirement for fonts to\nremain under this license does not apply to any document created\nusing the Font Software.\n\nTERMINATION\nThis license becomes null and void if any of the above conditions are\nnot met.\n\nDISCLAIMER\nTHE FONT SOFTWARE IS PROVIDED \"AS IS\", WITHOUT WARRANTY OF ANY KIND,\nEXPRESS OR IMPLIED, INCLUDING BUT NOT LIMITED TO ANY WARRANTIES OF\nMERCHANTABILITY, FITNESS FOR A PARTICULAR PURPOSE AND NONINFRINGEMENT\nOF COPYRIGHT, PATENT, TRADEMARK, OR OTHER RIGHT. IN NO EVENT SHALL THE\nCOPYRIGHT HOLDER BE LIABLE FOR ANY CLAIM, DAMAGES OR OTHER LIABILITY,\nINCLUDING ANY GENERAL, SPECIAL, INDIRECT, INCIDENTAL, OR CONSEQUENTIAL\nDAMAGES, WHETHER IN AN ACTION OF CONTRACT, TORT OR OTHERWISE, ARISING\nFROM, OUT OF THE USE OR INABILITY TO USE THE FONT SOFTWARE OR FROM\nOTHER DEALINGS IN THE FONT SOFTWARE.\n"
    }
   },
   "fonts": {
    "Anonymous Pro Bold": [
     {
      "fontFamily": "'Anonymous Pro Bold'",
      "src": "url('data:font/woff2;charset=utf-8;base64,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') format('woff2')"
     }
    ]
   },
   "styles": {
    ":root": {
     "--jp-code-font-family": "'Anonymous Pro Bold'",
     "--jp-code-font-size": "15px"
    }
   }
  },
  "kernelspec": {
   "display_name": "Python 3 (ipykernel)",
   "language": "python",
   "name": "python3"
  },
  "language_info": {
   "codemirror_mode": {
    "name": "ipython",
    "version": 3
   },
   "file_extension": ".py",
   "mimetype": "text/x-python",
   "name": "python",
   "nbconvert_exporter": "python",
   "pygments_lexer": "ipython3",
   "version": "3.11.5"
  },
  "toc-autonumbering": false,
  "toc-showcode": false,
  "toc-showtags": false
 },
 "nbformat": 4,
 "nbformat_minor": 5
}
